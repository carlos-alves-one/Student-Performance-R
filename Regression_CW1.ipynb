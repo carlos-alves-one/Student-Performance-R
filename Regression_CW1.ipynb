{
  "nbformat": 4,
  "nbformat_minor": 0,
  "metadata": {
    "colab": {
      "provenance": [],
      "toc_visible": true,
      "include_colab_link": true
    },
    "kernelspec": {
      "name": "ir",
      "display_name": "R"
    },
    "language_info": {
      "name": "R"
    }
  },
  "cells": [
    {
      "cell_type": "markdown",
      "metadata": {
        "id": "view-in-github",
        "colab_type": "text"
      },
      "source": [
        "<a href=\"https://colab.research.google.com/github/carlos-alves-one/-SSDM-Coursework-1/blob/main/Regression_CW1.ipynb\" target=\"_parent\"><img src=\"https://colab.research.google.com/assets/colab-badge.svg\" alt=\"Open In Colab\"/></a>"
      ]
    },
    {
      "cell_type": "markdown",
      "source": [
        "### Goldsmiths University of London\n",
        "### MSc. Data Science and Artificial Intelligence\n",
        "### Module: Statistics and Statistical Data Mining\n",
        "### Author: Carlos Manuel De Oliveira Alves\n",
        "### Student: cdeol003\n",
        "### Coursework No.1"
      ],
      "metadata": {
        "id": "G2ewl_edgCKH"
      }
    },
    {
      "cell_type": "markdown",
      "source": [
        "### Load the data\n",
        "\n",
        "> Run the code in Python 3"
      ],
      "metadata": {
        "id": "HNurKQCXo_CY"
      }
    },
    {
      "cell_type": "code",
      "source": [
        "# Imports the 'drive' module from 'google.colab' and mounts the Google Drive to\n",
        "# the '/content/drive' directory in the Colab environment.\n",
        "from google.colab import drive\n",
        "drive.mount('/content/drive')"
      ],
      "metadata": {
        "id": "lUSgw89UnKLH",
        "colab": {
          "base_uri": "https://localhost:8080/"
        },
        "outputId": "b275b04a-19d4-4869-961a-2e8475caa893"
      },
      "execution_count": 1,
      "outputs": [
        {
          "output_type": "stream",
          "name": "stdout",
          "text": [
            "Mounted at /content/drive\n"
          ]
        }
      ]
    },
    {
      "cell_type": "markdown",
      "source": [
        "> Run the code in R"
      ],
      "metadata": {
        "id": "9u_Dsd1MpNIY"
      }
    },
    {
      "cell_type": "code",
      "source": [
        "# Loading necessary library\n",
        "library(readr)\n",
        "\n",
        "# Loading the datasets using base R read.csv function\n",
        "student_mat <- read.csv(\"/content/drive/MyDrive/student/student-mat.csv\", sep = \";\")\n",
        "student_por <- read.csv(\"/content/drive/MyDrive/student/student-por.csv\", sep = \";\")\n",
        "\n",
        "# Displaying the first few rows of the Mathematics dataset\n",
        "head(student_mat)\n",
        "\n",
        "# Displaying the first few rows of the Portuguese dataset\n",
        "head(student_por)\n"
      ],
      "metadata": {
        "colab": {
          "base_uri": "https://localhost:8080/",
          "height": 554
        },
        "id": "6CxNpITxrIOA",
        "outputId": "1502e43f-b41e-45e2-ad3f-bfd395e53e2e"
      },
      "execution_count": 1,
      "outputs": [
        {
          "output_type": "display_data",
          "data": {
            "text/html": [
              "<table class=\"dataframe\">\n",
              "<caption>A data.frame: 6 × 33</caption>\n",
              "<thead>\n",
              "\t<tr><th></th><th scope=col>school</th><th scope=col>sex</th><th scope=col>age</th><th scope=col>address</th><th scope=col>famsize</th><th scope=col>Pstatus</th><th scope=col>Medu</th><th scope=col>Fedu</th><th scope=col>Mjob</th><th scope=col>Fjob</th><th scope=col>⋯</th><th scope=col>famrel</th><th scope=col>freetime</th><th scope=col>goout</th><th scope=col>Dalc</th><th scope=col>Walc</th><th scope=col>health</th><th scope=col>absences</th><th scope=col>G1</th><th scope=col>G2</th><th scope=col>G3</th></tr>\n",
              "\t<tr><th></th><th scope=col>&lt;chr&gt;</th><th scope=col>&lt;chr&gt;</th><th scope=col>&lt;int&gt;</th><th scope=col>&lt;chr&gt;</th><th scope=col>&lt;chr&gt;</th><th scope=col>&lt;chr&gt;</th><th scope=col>&lt;int&gt;</th><th scope=col>&lt;int&gt;</th><th scope=col>&lt;chr&gt;</th><th scope=col>&lt;chr&gt;</th><th scope=col>⋯</th><th scope=col>&lt;int&gt;</th><th scope=col>&lt;int&gt;</th><th scope=col>&lt;int&gt;</th><th scope=col>&lt;int&gt;</th><th scope=col>&lt;int&gt;</th><th scope=col>&lt;int&gt;</th><th scope=col>&lt;int&gt;</th><th scope=col>&lt;int&gt;</th><th scope=col>&lt;int&gt;</th><th scope=col>&lt;int&gt;</th></tr>\n",
              "</thead>\n",
              "<tbody>\n",
              "\t<tr><th scope=row>1</th><td>GP</td><td>F</td><td>18</td><td>U</td><td>GT3</td><td>A</td><td>4</td><td>4</td><td>at_home </td><td>teacher </td><td>⋯</td><td>4</td><td>3</td><td>4</td><td>1</td><td>1</td><td>3</td><td> 6</td><td> 5</td><td> 6</td><td> 6</td></tr>\n",
              "\t<tr><th scope=row>2</th><td>GP</td><td>F</td><td>17</td><td>U</td><td>GT3</td><td>T</td><td>1</td><td>1</td><td>at_home </td><td>other   </td><td>⋯</td><td>5</td><td>3</td><td>3</td><td>1</td><td>1</td><td>3</td><td> 4</td><td> 5</td><td> 5</td><td> 6</td></tr>\n",
              "\t<tr><th scope=row>3</th><td>GP</td><td>F</td><td>15</td><td>U</td><td>LE3</td><td>T</td><td>1</td><td>1</td><td>at_home </td><td>other   </td><td>⋯</td><td>4</td><td>3</td><td>2</td><td>2</td><td>3</td><td>3</td><td>10</td><td> 7</td><td> 8</td><td>10</td></tr>\n",
              "\t<tr><th scope=row>4</th><td>GP</td><td>F</td><td>15</td><td>U</td><td>GT3</td><td>T</td><td>4</td><td>2</td><td>health  </td><td>services</td><td>⋯</td><td>3</td><td>2</td><td>2</td><td>1</td><td>1</td><td>5</td><td> 2</td><td>15</td><td>14</td><td>15</td></tr>\n",
              "\t<tr><th scope=row>5</th><td>GP</td><td>F</td><td>16</td><td>U</td><td>GT3</td><td>T</td><td>3</td><td>3</td><td>other   </td><td>other   </td><td>⋯</td><td>4</td><td>3</td><td>2</td><td>1</td><td>2</td><td>5</td><td> 4</td><td> 6</td><td>10</td><td>10</td></tr>\n",
              "\t<tr><th scope=row>6</th><td>GP</td><td>M</td><td>16</td><td>U</td><td>LE3</td><td>T</td><td>4</td><td>3</td><td>services</td><td>other   </td><td>⋯</td><td>5</td><td>4</td><td>2</td><td>1</td><td>2</td><td>5</td><td>10</td><td>15</td><td>15</td><td>15</td></tr>\n",
              "</tbody>\n",
              "</table>\n"
            ],
            "text/markdown": "\nA data.frame: 6 × 33\n\n| <!--/--> | school &lt;chr&gt; | sex &lt;chr&gt; | age &lt;int&gt; | address &lt;chr&gt; | famsize &lt;chr&gt; | Pstatus &lt;chr&gt; | Medu &lt;int&gt; | Fedu &lt;int&gt; | Mjob &lt;chr&gt; | Fjob &lt;chr&gt; | ⋯ ⋯ | famrel &lt;int&gt; | freetime &lt;int&gt; | goout &lt;int&gt; | Dalc &lt;int&gt; | Walc &lt;int&gt; | health &lt;int&gt; | absences &lt;int&gt; | G1 &lt;int&gt; | G2 &lt;int&gt; | G3 &lt;int&gt; |\n|---|---|---|---|---|---|---|---|---|---|---|---|---|---|---|---|---|---|---|---|---|---|\n| 1 | GP | F | 18 | U | GT3 | A | 4 | 4 | at_home  | teacher  | ⋯ | 4 | 3 | 4 | 1 | 1 | 3 |  6 |  5 |  6 |  6 |\n| 2 | GP | F | 17 | U | GT3 | T | 1 | 1 | at_home  | other    | ⋯ | 5 | 3 | 3 | 1 | 1 | 3 |  4 |  5 |  5 |  6 |\n| 3 | GP | F | 15 | U | LE3 | T | 1 | 1 | at_home  | other    | ⋯ | 4 | 3 | 2 | 2 | 3 | 3 | 10 |  7 |  8 | 10 |\n| 4 | GP | F | 15 | U | GT3 | T | 4 | 2 | health   | services | ⋯ | 3 | 2 | 2 | 1 | 1 | 5 |  2 | 15 | 14 | 15 |\n| 5 | GP | F | 16 | U | GT3 | T | 3 | 3 | other    | other    | ⋯ | 4 | 3 | 2 | 1 | 2 | 5 |  4 |  6 | 10 | 10 |\n| 6 | GP | M | 16 | U | LE3 | T | 4 | 3 | services | other    | ⋯ | 5 | 4 | 2 | 1 | 2 | 5 | 10 | 15 | 15 | 15 |\n\n",
            "text/latex": "A data.frame: 6 × 33\n\\begin{tabular}{r|lllllllllllllllllllll}\n  & school & sex & age & address & famsize & Pstatus & Medu & Fedu & Mjob & Fjob & ⋯ & famrel & freetime & goout & Dalc & Walc & health & absences & G1 & G2 & G3\\\\\n  & <chr> & <chr> & <int> & <chr> & <chr> & <chr> & <int> & <int> & <chr> & <chr> & ⋯ & <int> & <int> & <int> & <int> & <int> & <int> & <int> & <int> & <int> & <int>\\\\\n\\hline\n\t1 & GP & F & 18 & U & GT3 & A & 4 & 4 & at\\_home  & teacher  & ⋯ & 4 & 3 & 4 & 1 & 1 & 3 &  6 &  5 &  6 &  6\\\\\n\t2 & GP & F & 17 & U & GT3 & T & 1 & 1 & at\\_home  & other    & ⋯ & 5 & 3 & 3 & 1 & 1 & 3 &  4 &  5 &  5 &  6\\\\\n\t3 & GP & F & 15 & U & LE3 & T & 1 & 1 & at\\_home  & other    & ⋯ & 4 & 3 & 2 & 2 & 3 & 3 & 10 &  7 &  8 & 10\\\\\n\t4 & GP & F & 15 & U & GT3 & T & 4 & 2 & health   & services & ⋯ & 3 & 2 & 2 & 1 & 1 & 5 &  2 & 15 & 14 & 15\\\\\n\t5 & GP & F & 16 & U & GT3 & T & 3 & 3 & other    & other    & ⋯ & 4 & 3 & 2 & 1 & 2 & 5 &  4 &  6 & 10 & 10\\\\\n\t6 & GP & M & 16 & U & LE3 & T & 4 & 3 & services & other    & ⋯ & 5 & 4 & 2 & 1 & 2 & 5 & 10 & 15 & 15 & 15\\\\\n\\end{tabular}\n",
            "text/plain": [
              "  school sex age address famsize Pstatus Medu Fedu Mjob     Fjob     ⋯ famrel\n",
              "1 GP     F   18  U       GT3     A       4    4    at_home  teacher  ⋯ 4     \n",
              "2 GP     F   17  U       GT3     T       1    1    at_home  other    ⋯ 5     \n",
              "3 GP     F   15  U       LE3     T       1    1    at_home  other    ⋯ 4     \n",
              "4 GP     F   15  U       GT3     T       4    2    health   services ⋯ 3     \n",
              "5 GP     F   16  U       GT3     T       3    3    other    other    ⋯ 4     \n",
              "6 GP     M   16  U       LE3     T       4    3    services other    ⋯ 5     \n",
              "  freetime goout Dalc Walc health absences G1 G2 G3\n",
              "1 3        4     1    1    3       6        5  6  6\n",
              "2 3        3     1    1    3       4        5  5  6\n",
              "3 3        2     2    3    3      10        7  8 10\n",
              "4 2        2     1    1    5       2       15 14 15\n",
              "5 3        2     1    2    5       4        6 10 10\n",
              "6 4        2     1    2    5      10       15 15 15"
            ]
          },
          "metadata": {}
        },
        {
          "output_type": "display_data",
          "data": {
            "text/html": [
              "<table class=\"dataframe\">\n",
              "<caption>A data.frame: 6 × 33</caption>\n",
              "<thead>\n",
              "\t<tr><th></th><th scope=col>school</th><th scope=col>sex</th><th scope=col>age</th><th scope=col>address</th><th scope=col>famsize</th><th scope=col>Pstatus</th><th scope=col>Medu</th><th scope=col>Fedu</th><th scope=col>Mjob</th><th scope=col>Fjob</th><th scope=col>⋯</th><th scope=col>famrel</th><th scope=col>freetime</th><th scope=col>goout</th><th scope=col>Dalc</th><th scope=col>Walc</th><th scope=col>health</th><th scope=col>absences</th><th scope=col>G1</th><th scope=col>G2</th><th scope=col>G3</th></tr>\n",
              "\t<tr><th></th><th scope=col>&lt;chr&gt;</th><th scope=col>&lt;chr&gt;</th><th scope=col>&lt;int&gt;</th><th scope=col>&lt;chr&gt;</th><th scope=col>&lt;chr&gt;</th><th scope=col>&lt;chr&gt;</th><th scope=col>&lt;int&gt;</th><th scope=col>&lt;int&gt;</th><th scope=col>&lt;chr&gt;</th><th scope=col>&lt;chr&gt;</th><th scope=col>⋯</th><th scope=col>&lt;int&gt;</th><th scope=col>&lt;int&gt;</th><th scope=col>&lt;int&gt;</th><th scope=col>&lt;int&gt;</th><th scope=col>&lt;int&gt;</th><th scope=col>&lt;int&gt;</th><th scope=col>&lt;int&gt;</th><th scope=col>&lt;int&gt;</th><th scope=col>&lt;int&gt;</th><th scope=col>&lt;int&gt;</th></tr>\n",
              "</thead>\n",
              "<tbody>\n",
              "\t<tr><th scope=row>1</th><td>GP</td><td>F</td><td>18</td><td>U</td><td>GT3</td><td>A</td><td>4</td><td>4</td><td>at_home </td><td>teacher </td><td>⋯</td><td>4</td><td>3</td><td>4</td><td>1</td><td>1</td><td>3</td><td>4</td><td> 0</td><td>11</td><td>11</td></tr>\n",
              "\t<tr><th scope=row>2</th><td>GP</td><td>F</td><td>17</td><td>U</td><td>GT3</td><td>T</td><td>1</td><td>1</td><td>at_home </td><td>other   </td><td>⋯</td><td>5</td><td>3</td><td>3</td><td>1</td><td>1</td><td>3</td><td>2</td><td> 9</td><td>11</td><td>11</td></tr>\n",
              "\t<tr><th scope=row>3</th><td>GP</td><td>F</td><td>15</td><td>U</td><td>LE3</td><td>T</td><td>1</td><td>1</td><td>at_home </td><td>other   </td><td>⋯</td><td>4</td><td>3</td><td>2</td><td>2</td><td>3</td><td>3</td><td>6</td><td>12</td><td>13</td><td>12</td></tr>\n",
              "\t<tr><th scope=row>4</th><td>GP</td><td>F</td><td>15</td><td>U</td><td>GT3</td><td>T</td><td>4</td><td>2</td><td>health  </td><td>services</td><td>⋯</td><td>3</td><td>2</td><td>2</td><td>1</td><td>1</td><td>5</td><td>0</td><td>14</td><td>14</td><td>14</td></tr>\n",
              "\t<tr><th scope=row>5</th><td>GP</td><td>F</td><td>16</td><td>U</td><td>GT3</td><td>T</td><td>3</td><td>3</td><td>other   </td><td>other   </td><td>⋯</td><td>4</td><td>3</td><td>2</td><td>1</td><td>2</td><td>5</td><td>0</td><td>11</td><td>13</td><td>13</td></tr>\n",
              "\t<tr><th scope=row>6</th><td>GP</td><td>M</td><td>16</td><td>U</td><td>LE3</td><td>T</td><td>4</td><td>3</td><td>services</td><td>other   </td><td>⋯</td><td>5</td><td>4</td><td>2</td><td>1</td><td>2</td><td>5</td><td>6</td><td>12</td><td>12</td><td>13</td></tr>\n",
              "</tbody>\n",
              "</table>\n"
            ],
            "text/markdown": "\nA data.frame: 6 × 33\n\n| <!--/--> | school &lt;chr&gt; | sex &lt;chr&gt; | age &lt;int&gt; | address &lt;chr&gt; | famsize &lt;chr&gt; | Pstatus &lt;chr&gt; | Medu &lt;int&gt; | Fedu &lt;int&gt; | Mjob &lt;chr&gt; | Fjob &lt;chr&gt; | ⋯ ⋯ | famrel &lt;int&gt; | freetime &lt;int&gt; | goout &lt;int&gt; | Dalc &lt;int&gt; | Walc &lt;int&gt; | health &lt;int&gt; | absences &lt;int&gt; | G1 &lt;int&gt; | G2 &lt;int&gt; | G3 &lt;int&gt; |\n|---|---|---|---|---|---|---|---|---|---|---|---|---|---|---|---|---|---|---|---|---|---|\n| 1 | GP | F | 18 | U | GT3 | A | 4 | 4 | at_home  | teacher  | ⋯ | 4 | 3 | 4 | 1 | 1 | 3 | 4 |  0 | 11 | 11 |\n| 2 | GP | F | 17 | U | GT3 | T | 1 | 1 | at_home  | other    | ⋯ | 5 | 3 | 3 | 1 | 1 | 3 | 2 |  9 | 11 | 11 |\n| 3 | GP | F | 15 | U | LE3 | T | 1 | 1 | at_home  | other    | ⋯ | 4 | 3 | 2 | 2 | 3 | 3 | 6 | 12 | 13 | 12 |\n| 4 | GP | F | 15 | U | GT3 | T | 4 | 2 | health   | services | ⋯ | 3 | 2 | 2 | 1 | 1 | 5 | 0 | 14 | 14 | 14 |\n| 5 | GP | F | 16 | U | GT3 | T | 3 | 3 | other    | other    | ⋯ | 4 | 3 | 2 | 1 | 2 | 5 | 0 | 11 | 13 | 13 |\n| 6 | GP | M | 16 | U | LE3 | T | 4 | 3 | services | other    | ⋯ | 5 | 4 | 2 | 1 | 2 | 5 | 6 | 12 | 12 | 13 |\n\n",
            "text/latex": "A data.frame: 6 × 33\n\\begin{tabular}{r|lllllllllllllllllllll}\n  & school & sex & age & address & famsize & Pstatus & Medu & Fedu & Mjob & Fjob & ⋯ & famrel & freetime & goout & Dalc & Walc & health & absences & G1 & G2 & G3\\\\\n  & <chr> & <chr> & <int> & <chr> & <chr> & <chr> & <int> & <int> & <chr> & <chr> & ⋯ & <int> & <int> & <int> & <int> & <int> & <int> & <int> & <int> & <int> & <int>\\\\\n\\hline\n\t1 & GP & F & 18 & U & GT3 & A & 4 & 4 & at\\_home  & teacher  & ⋯ & 4 & 3 & 4 & 1 & 1 & 3 & 4 &  0 & 11 & 11\\\\\n\t2 & GP & F & 17 & U & GT3 & T & 1 & 1 & at\\_home  & other    & ⋯ & 5 & 3 & 3 & 1 & 1 & 3 & 2 &  9 & 11 & 11\\\\\n\t3 & GP & F & 15 & U & LE3 & T & 1 & 1 & at\\_home  & other    & ⋯ & 4 & 3 & 2 & 2 & 3 & 3 & 6 & 12 & 13 & 12\\\\\n\t4 & GP & F & 15 & U & GT3 & T & 4 & 2 & health   & services & ⋯ & 3 & 2 & 2 & 1 & 1 & 5 & 0 & 14 & 14 & 14\\\\\n\t5 & GP & F & 16 & U & GT3 & T & 3 & 3 & other    & other    & ⋯ & 4 & 3 & 2 & 1 & 2 & 5 & 0 & 11 & 13 & 13\\\\\n\t6 & GP & M & 16 & U & LE3 & T & 4 & 3 & services & other    & ⋯ & 5 & 4 & 2 & 1 & 2 & 5 & 6 & 12 & 12 & 13\\\\\n\\end{tabular}\n",
            "text/plain": [
              "  school sex age address famsize Pstatus Medu Fedu Mjob     Fjob     ⋯ famrel\n",
              "1 GP     F   18  U       GT3     A       4    4    at_home  teacher  ⋯ 4     \n",
              "2 GP     F   17  U       GT3     T       1    1    at_home  other    ⋯ 5     \n",
              "3 GP     F   15  U       LE3     T       1    1    at_home  other    ⋯ 4     \n",
              "4 GP     F   15  U       GT3     T       4    2    health   services ⋯ 3     \n",
              "5 GP     F   16  U       GT3     T       3    3    other    other    ⋯ 4     \n",
              "6 GP     M   16  U       LE3     T       4    3    services other    ⋯ 5     \n",
              "  freetime goout Dalc Walc health absences G1 G2 G3\n",
              "1 3        4     1    1    3      4         0 11 11\n",
              "2 3        3     1    1    3      2         9 11 11\n",
              "3 3        2     2    3    3      6        12 13 12\n",
              "4 2        2     1    1    5      0        14 14 14\n",
              "5 3        2     1    2    5      0        11 13 13\n",
              "6 4        2     1    2    5      6        12 12 13"
            ]
          },
          "metadata": {}
        }
      ]
    },
    {
      "cell_type": "markdown",
      "source": [
        "Dataset source: https://archive.ics.uci.edu/dataset/320/student+performance"
      ],
      "metadata": {
        "id": "pbfC_QBSskc5"
      }
    },
    {
      "cell_type": "markdown",
      "source": [
        "License: This dataset is licensed under a https://creativecommons.org/licenses/by/4.0/legalcode (CC BY 4.0) license."
      ],
      "metadata": {
        "id": "sAOHACx9s1qY"
      }
    },
    {
      "cell_type": "markdown",
      "source": [
        "##Task No.1\n",
        "Describe the regression problem you tackle in this coursework, namely what is the purpose\n",
        "of your analysis"
      ],
      "metadata": {
        "id": "fHp4j6ertj0M"
      }
    },
    {
      "cell_type": "markdown",
      "source": [
        "The regression problem with this dataset, involving student performance in secondary education, is centred around predicting a student's final year grade (G3) in two subjects: Mathematics (mat) and Portuguese language (por). This prediction is based on various explanatory variables provided in the dataset. Let us break down the critical aspects of this regression problem:"
      ],
      "metadata": {
        "id": "5sCSKZTiud0y"
      }
    },
    {
      "cell_type": "markdown",
      "source": [
        "###Objective of the Analysis"
      ],
      "metadata": {
        "id": "UgkPlwIdupY1"
      }
    },
    {
      "cell_type": "markdown",
      "source": [
        "The regression analysis primarily aims to predict students' final grades (G3).\n",
        "\n",
        "This prediction can inform understanding of:\n",
        "\n",
        "- Student Performance: Understanding factors that contribute to higher or lower final grades.\n",
        "\n",
        "- Educational Interventions: Identifying areas where students might require more support or resources.\n",
        "\n",
        "- Policy Making: Informing educational policies and teaching strategies to improve student outcomes."
      ],
      "metadata": {
        "id": "ICNTc1MPvdNo"
      }
    },
    {
      "cell_type": "markdown",
      "source": [
        "###Nature of the Regression Problem"
      ],
      "metadata": {
        "id": "G2D_d7gixX5T"
      }
    },
    {
      "cell_type": "markdown",
      "source": [
        "- Target Variable: The target variable for the regression model is 'G3', the final year grade, which is a continuous numeric value.\n",
        "\n",
        "- Type of Regression: Since the target variable is continuous, this is a typical regression problem (as opposed to a classification problem)."
      ],
      "metadata": {
        "id": "5yBORTm2xdAX"
      }
    },
    {
      "cell_type": "markdown",
      "source": [
        "###Predictor Variables"
      ],
      "metadata": {
        "id": "TnrXPt_5yHot"
      }
    },
    {
      "cell_type": "markdown",
      "source": [
        "This analysis will consider various independent variables, which could include:\n",
        "\n",
        "- Demographic Factors: Age, sex, and address of the students.\n",
        "\n",
        "- Family Background: Parents' education level, job, family size, etc.\n",
        "\n",
        "- School-Related Features: Absences, past failures, extra educational support, etc.\n",
        "\n",
        "- Lifestyle Factors: Going out, weekday alcohol consumption, etc.\n",
        "\n",
        "- Previous Performance: First and second-period grades (G1 and G2). However, considering the strong correlation with G3, we might explore models including and excluding these variables.\n",
        "\n"
      ],
      "metadata": {
        "id": "-vHnYgwlyLtI"
      }
    },
    {
      "cell_type": "markdown",
      "source": [
        "##Task No.2\n",
        "Randomly split the dataset in 3 equal parts: the training set, the validation set and the test set."
      ],
      "metadata": {
        "id": "De7_ow0cJzN5"
      }
    },
    {
      "cell_type": "markdown",
      "source": [
        "The provided R script reads two datasets, student-mat.csv and student-por.csv, from a specified directory and merges them into a single dataframe based on standard columns like school, sex, age, and others. The merging process creates a combined dataset by aligning rows from both files with matching values in these critical columns. Finally, the script displays the total number of rows in the merged dataset and the first few rows for initial inspection."
      ],
      "metadata": {
        "id": "CAfcse11LB1I"
      }
    },
    {
      "cell_type": "markdown",
      "source": [
        "###Merge the CSV Files"
      ],
      "metadata": {
        "id": "0VXrgp9hLIqj"
      }
    },
    {
      "cell_type": "code",
      "source": [
        "# Read the 'student-mat.csv' file into a dataframe 'd1'. The file is separated by semicolons and includes a header row\n",
        "d1 = read.table(\"/content/drive/MyDrive/student/student-mat.csv\", sep=\";\", header=TRUE)\n",
        "\n",
        "# Read the 'student-por.csv' file into a dataframe 'd2'. This file is also separated by semicolons and includes a header row\n",
        "d2 = read.table(\"/content/drive/MyDrive/student/student-por.csv\", sep=\";\", header=TRUE)\n",
        "\n",
        "# Merge the dataframes 'd1' and 'd2' into a new dataframe 'dataset'\n",
        "# The merge is performed on columns: school, sex, age, address, famsize,\n",
        "# Pstatus, Medu, Fedu, Mjob, Fjob, reason, nursery, and internet\n",
        "# These columns are used as keys for merging, meaning rows will be combined when these columns have matching values in both 'd1' and 'd2'\n",
        "dataset = merge(d1, d2, by=c(\"school\", \"sex\", \"age\", \"address\", \"famsize\", \"Pstatus\", \"Medu\", \"Fedu\", \"Mjob\", \"Fjob\", \"reason\", \"nursery\", \"internet\"))\n",
        "\n",
        "# Print the number of rows in the merged dataframe 'd3'. This gives an idea of how many entries are there in the merged dataset.\n",
        "print(nrow(dataset))\n",
        "\n",
        "# Display the first few rows (default is 6) of the merged dataframe 'd3'. This is useful for a quick inspection of the merged data, its structure, and its columns.\n",
        "head(dataset)\n"
      ],
      "metadata": {
        "colab": {
          "base_uri": "https://localhost:8080/",
          "height": 323
        },
        "id": "IvSSMxuPI2tT",
        "outputId": "6584833a-c2d9-4094-d3c3-102a851e5cae"
      },
      "execution_count": 2,
      "outputs": [
        {
          "output_type": "stream",
          "name": "stdout",
          "text": [
            "[1] 382\n"
          ]
        },
        {
          "output_type": "display_data",
          "data": {
            "text/html": [
              "<table class=\"dataframe\">\n",
              "<caption>A data.frame: 6 × 53</caption>\n",
              "<thead>\n",
              "\t<tr><th></th><th scope=col>school</th><th scope=col>sex</th><th scope=col>age</th><th scope=col>address</th><th scope=col>famsize</th><th scope=col>Pstatus</th><th scope=col>Medu</th><th scope=col>Fedu</th><th scope=col>Mjob</th><th scope=col>Fjob</th><th scope=col>⋯</th><th scope=col>famrel.y</th><th scope=col>freetime.y</th><th scope=col>goout.y</th><th scope=col>Dalc.y</th><th scope=col>Walc.y</th><th scope=col>health.y</th><th scope=col>absences.y</th><th scope=col>G1.y</th><th scope=col>G2.y</th><th scope=col>G3.y</th></tr>\n",
              "\t<tr><th></th><th scope=col>&lt;chr&gt;</th><th scope=col>&lt;chr&gt;</th><th scope=col>&lt;int&gt;</th><th scope=col>&lt;chr&gt;</th><th scope=col>&lt;chr&gt;</th><th scope=col>&lt;chr&gt;</th><th scope=col>&lt;int&gt;</th><th scope=col>&lt;int&gt;</th><th scope=col>&lt;chr&gt;</th><th scope=col>&lt;chr&gt;</th><th scope=col>⋯</th><th scope=col>&lt;int&gt;</th><th scope=col>&lt;int&gt;</th><th scope=col>&lt;int&gt;</th><th scope=col>&lt;int&gt;</th><th scope=col>&lt;int&gt;</th><th scope=col>&lt;int&gt;</th><th scope=col>&lt;int&gt;</th><th scope=col>&lt;int&gt;</th><th scope=col>&lt;int&gt;</th><th scope=col>&lt;int&gt;</th></tr>\n",
              "</thead>\n",
              "<tbody>\n",
              "\t<tr><th scope=row>1</th><td>GP</td><td>F</td><td>15</td><td>R</td><td>GT3</td><td>T</td><td>1</td><td>1</td><td>at_home </td><td>other   </td><td>⋯</td><td>3</td><td>1</td><td>2</td><td>1</td><td>1</td><td>1</td><td>4</td><td>13</td><td>13</td><td>13</td></tr>\n",
              "\t<tr><th scope=row>2</th><td>GP</td><td>F</td><td>15</td><td>R</td><td>GT3</td><td>T</td><td>1</td><td>1</td><td>other   </td><td>other   </td><td>⋯</td><td>3</td><td>3</td><td>4</td><td>2</td><td>4</td><td>5</td><td>2</td><td>13</td><td>11</td><td>11</td></tr>\n",
              "\t<tr><th scope=row>3</th><td>GP</td><td>F</td><td>15</td><td>R</td><td>GT3</td><td>T</td><td>2</td><td>2</td><td>at_home </td><td>other   </td><td>⋯</td><td>4</td><td>3</td><td>1</td><td>1</td><td>1</td><td>2</td><td>8</td><td>14</td><td>13</td><td>12</td></tr>\n",
              "\t<tr><th scope=row>4</th><td>GP</td><td>F</td><td>15</td><td>R</td><td>GT3</td><td>T</td><td>2</td><td>4</td><td>services</td><td>health  </td><td>⋯</td><td>4</td><td>3</td><td>2</td><td>1</td><td>1</td><td>5</td><td>2</td><td>10</td><td>11</td><td>10</td></tr>\n",
              "\t<tr><th scope=row>5</th><td>GP</td><td>F</td><td>15</td><td>R</td><td>GT3</td><td>T</td><td>3</td><td>3</td><td>services</td><td>services</td><td>⋯</td><td>4</td><td>2</td><td>1</td><td>2</td><td>3</td><td>3</td><td>2</td><td>13</td><td>13</td><td>13</td></tr>\n",
              "\t<tr><th scope=row>6</th><td>GP</td><td>F</td><td>15</td><td>R</td><td>GT3</td><td>T</td><td>3</td><td>4</td><td>services</td><td>health  </td><td>⋯</td><td>4</td><td>3</td><td>2</td><td>1</td><td>1</td><td>5</td><td>2</td><td>11</td><td>12</td><td>12</td></tr>\n",
              "</tbody>\n",
              "</table>\n"
            ],
            "text/markdown": "\nA data.frame: 6 × 53\n\n| <!--/--> | school &lt;chr&gt; | sex &lt;chr&gt; | age &lt;int&gt; | address &lt;chr&gt; | famsize &lt;chr&gt; | Pstatus &lt;chr&gt; | Medu &lt;int&gt; | Fedu &lt;int&gt; | Mjob &lt;chr&gt; | Fjob &lt;chr&gt; | ⋯ ⋯ | famrel.y &lt;int&gt; | freetime.y &lt;int&gt; | goout.y &lt;int&gt; | Dalc.y &lt;int&gt; | Walc.y &lt;int&gt; | health.y &lt;int&gt; | absences.y &lt;int&gt; | G1.y &lt;int&gt; | G2.y &lt;int&gt; | G3.y &lt;int&gt; |\n|---|---|---|---|---|---|---|---|---|---|---|---|---|---|---|---|---|---|---|---|---|---|\n| 1 | GP | F | 15 | R | GT3 | T | 1 | 1 | at_home  | other    | ⋯ | 3 | 1 | 2 | 1 | 1 | 1 | 4 | 13 | 13 | 13 |\n| 2 | GP | F | 15 | R | GT3 | T | 1 | 1 | other    | other    | ⋯ | 3 | 3 | 4 | 2 | 4 | 5 | 2 | 13 | 11 | 11 |\n| 3 | GP | F | 15 | R | GT3 | T | 2 | 2 | at_home  | other    | ⋯ | 4 | 3 | 1 | 1 | 1 | 2 | 8 | 14 | 13 | 12 |\n| 4 | GP | F | 15 | R | GT3 | T | 2 | 4 | services | health   | ⋯ | 4 | 3 | 2 | 1 | 1 | 5 | 2 | 10 | 11 | 10 |\n| 5 | GP | F | 15 | R | GT3 | T | 3 | 3 | services | services | ⋯ | 4 | 2 | 1 | 2 | 3 | 3 | 2 | 13 | 13 | 13 |\n| 6 | GP | F | 15 | R | GT3 | T | 3 | 4 | services | health   | ⋯ | 4 | 3 | 2 | 1 | 1 | 5 | 2 | 11 | 12 | 12 |\n\n",
            "text/latex": "A data.frame: 6 × 53\n\\begin{tabular}{r|lllllllllllllllllllll}\n  & school & sex & age & address & famsize & Pstatus & Medu & Fedu & Mjob & Fjob & ⋯ & famrel.y & freetime.y & goout.y & Dalc.y & Walc.y & health.y & absences.y & G1.y & G2.y & G3.y\\\\\n  & <chr> & <chr> & <int> & <chr> & <chr> & <chr> & <int> & <int> & <chr> & <chr> & ⋯ & <int> & <int> & <int> & <int> & <int> & <int> & <int> & <int> & <int> & <int>\\\\\n\\hline\n\t1 & GP & F & 15 & R & GT3 & T & 1 & 1 & at\\_home  & other    & ⋯ & 3 & 1 & 2 & 1 & 1 & 1 & 4 & 13 & 13 & 13\\\\\n\t2 & GP & F & 15 & R & GT3 & T & 1 & 1 & other    & other    & ⋯ & 3 & 3 & 4 & 2 & 4 & 5 & 2 & 13 & 11 & 11\\\\\n\t3 & GP & F & 15 & R & GT3 & T & 2 & 2 & at\\_home  & other    & ⋯ & 4 & 3 & 1 & 1 & 1 & 2 & 8 & 14 & 13 & 12\\\\\n\t4 & GP & F & 15 & R & GT3 & T & 2 & 4 & services & health   & ⋯ & 4 & 3 & 2 & 1 & 1 & 5 & 2 & 10 & 11 & 10\\\\\n\t5 & GP & F & 15 & R & GT3 & T & 3 & 3 & services & services & ⋯ & 4 & 2 & 1 & 2 & 3 & 3 & 2 & 13 & 13 & 13\\\\\n\t6 & GP & F & 15 & R & GT3 & T & 3 & 4 & services & health   & ⋯ & 4 & 3 & 2 & 1 & 1 & 5 & 2 & 11 & 12 & 12\\\\\n\\end{tabular}\n",
            "text/plain": [
              "  school sex age address famsize Pstatus Medu Fedu Mjob     Fjob     ⋯ famrel.y\n",
              "1 GP     F   15  R       GT3     T       1    1    at_home  other    ⋯ 3       \n",
              "2 GP     F   15  R       GT3     T       1    1    other    other    ⋯ 3       \n",
              "3 GP     F   15  R       GT3     T       2    2    at_home  other    ⋯ 4       \n",
              "4 GP     F   15  R       GT3     T       2    4    services health   ⋯ 4       \n",
              "5 GP     F   15  R       GT3     T       3    3    services services ⋯ 4       \n",
              "6 GP     F   15  R       GT3     T       3    4    services health   ⋯ 4       \n",
              "  freetime.y goout.y Dalc.y Walc.y health.y absences.y G1.y G2.y G3.y\n",
              "1 1          2       1      1      1        4          13   13   13  \n",
              "2 3          4       2      4      5        2          13   11   11  \n",
              "3 3          1       1      1      2        8          14   13   12  \n",
              "4 3          2       1      1      5        2          10   11   10  \n",
              "5 2          1       2      3      3        2          13   13   13  \n",
              "6 3          2       1      1      5        2          11   12   12  "
            ]
          },
          "metadata": {}
        }
      ]
    },
    {
      "cell_type": "markdown",
      "source": [
        "###Random Slipt the Dataset\n",
        "\n",
        "The script loads the `dplyr` library for data manipulation, sets a random seed for reproducibility, and shuffles a dataset to ensure random distribution. It then divides the randomized dataset into three equal parts for training, validation, and testing, a standard practice in machine learning for model development and evaluation. This approach ensures that each subset is representative of the overall dataset, facilitating practical model training and performance assessment."
      ],
      "metadata": {
        "id": "xY05gNuNLVUi"
      }
    },
    {
      "cell_type": "code",
      "source": [
        "# Load necessary library\n",
        "library(dplyr)\n",
        "\n",
        "# Set seed for reproducibility\n",
        "set.seed(123)\n",
        "\n",
        "# Shuffle the dataset\n",
        "dataset <- dataset[sample(nrow(dataset)), ]\n",
        "\n",
        "# Split the dataset into three equal parts\n",
        "part_size <- nrow(dataset) / 3\n",
        "train_set <- dataset[1:part_size, ]\n",
        "validation_set <- dataset[(part_size + 1):(2 * part_size), ]\n",
        "test_set <- dataset[(2 * part_size + 1):nrow(dataset), ]\n"
      ],
      "metadata": {
        "colab": {
          "base_uri": "https://localhost:8080/"
        },
        "id": "yF4YvIc2GmOZ",
        "outputId": "a5a524df-1837-40f3-9083-fbfd8218a8ca"
      },
      "execution_count": 3,
      "outputs": [
        {
          "output_type": "stream",
          "name": "stderr",
          "text": [
            "\n",
            "Attaching package: ‘dplyr’\n",
            "\n",
            "\n",
            "The following objects are masked from ‘package:stats’:\n",
            "\n",
            "    filter, lag\n",
            "\n",
            "\n",
            "The following objects are masked from ‘package:base’:\n",
            "\n",
            "    intersect, setdiff, setequal, union\n",
            "\n",
            "\n"
          ]
        }
      ]
    },
    {
      "cell_type": "markdown",
      "source": [
        "##Task No.3\n",
        "Understanding the data: Using the training set, provide number of records and number of variables; mention the names of input attributes (independent variables) and their types and provide percentage of missing values; mention the output attribute (dependent variable) and its type. Compute variable correlations. Draw scatterplots with variables to visually."
      ],
      "metadata": {
        "id": "T9e2XV-leYk_"
      }
    },
    {
      "cell_type": "markdown",
      "source": [
        "###Number of Records and Variables\n",
        "This step involves finding out the number of rows (records) and columns (variables) in the training set."
      ],
      "metadata": {
        "id": "HeaMOwiqgP7J"
      }
    },
    {
      "cell_type": "code",
      "source": [
        "# Number of records and variables in the training set\n",
        "num_records <- nrow(train_set)\n",
        "num_variables <- ncol(train_set)\n",
        "cat(\"Number of records....:\", num_records, \"\\n\")\n",
        "cat(\"Number of variables..:\", num_variables, \"\\n\")\n"
      ],
      "metadata": {
        "colab": {
          "base_uri": "https://localhost:8080/"
        },
        "id": "zLUDPkwqeeuj",
        "outputId": "b42d6f3b-9d88-4a61-a7c7-1aa3e783d741"
      },
      "execution_count": 5,
      "outputs": [
        {
          "output_type": "stream",
          "name": "stdout",
          "text": [
            "Number of records....: 127 \n",
            "Number of variables..: 53 \n"
          ]
        }
      ]
    },
    {
      "cell_type": "markdown",
      "source": [
        "###Input Attributes and Their Types\n",
        "Identify the names of the input attributes (independent variables), and mention their types."
      ],
      "metadata": {
        "id": "bldNgXlSgsXx"
      }
    },
    {
      "cell_type": "code",
      "source": [
        "# Names and types of input attributes\n",
        "input_attributes <- names(train_set)\n",
        "attribute_types <- sapply(train_set, class)\n",
        "cat(\"Input Attributes and Their Types:\\n\")\n",
        "print(data.frame(Attribute = input_attributes, Type = attribute_types))\n"
      ],
      "metadata": {
        "colab": {
          "base_uri": "https://localhost:8080/"
        },
        "id": "SvbgeTSpgydo",
        "outputId": "24694604-1b53-4e30-c09c-12e60aaa831e"
      },
      "execution_count": 6,
      "outputs": [
        {
          "output_type": "stream",
          "name": "stdout",
          "text": [
            "Input Attributes and Their Types:\n",
            "                Attribute      Type\n",
            "school             school character\n",
            "sex                   sex character\n",
            "age                   age   integer\n",
            "address           address character\n",
            "famsize           famsize character\n",
            "Pstatus           Pstatus character\n",
            "Medu                 Medu   integer\n",
            "Fedu                 Fedu   integer\n",
            "Mjob                 Mjob character\n",
            "Fjob                 Fjob character\n",
            "reason             reason character\n",
            "nursery           nursery character\n",
            "internet         internet character\n",
            "guardian.x     guardian.x character\n",
            "traveltime.x traveltime.x   integer\n",
            "studytime.x   studytime.x   integer\n",
            "failures.x     failures.x   integer\n",
            "schoolsup.x   schoolsup.x character\n",
            "famsup.x         famsup.x character\n",
            "paid.x             paid.x character\n",
            "activities.x activities.x character\n",
            "higher.x         higher.x character\n",
            "romantic.x     romantic.x character\n",
            "famrel.x         famrel.x   integer\n",
            "freetime.x     freetime.x   integer\n",
            "goout.x           goout.x   integer\n",
            "Dalc.x             Dalc.x   integer\n",
            "Walc.x             Walc.x   integer\n",
            "health.x         health.x   integer\n",
            "absences.x     absences.x   integer\n",
            "G1.x                 G1.x   integer\n",
            "G2.x                 G2.x   integer\n",
            "G3.x                 G3.x   integer\n",
            "guardian.y     guardian.y character\n",
            "traveltime.y traveltime.y   integer\n",
            "studytime.y   studytime.y   integer\n",
            "failures.y     failures.y   integer\n",
            "schoolsup.y   schoolsup.y character\n",
            "famsup.y         famsup.y character\n",
            "paid.y             paid.y character\n",
            "activities.y activities.y character\n",
            "higher.y         higher.y character\n",
            "romantic.y     romantic.y character\n",
            "famrel.y         famrel.y   integer\n",
            "freetime.y     freetime.y   integer\n",
            "goout.y           goout.y   integer\n",
            "Dalc.y             Dalc.y   integer\n",
            "Walc.y             Walc.y   integer\n",
            "health.y         health.y   integer\n",
            "absences.y     absences.y   integer\n",
            "G1.y                 G1.y   integer\n",
            "G2.y                 G2.y   integer\n",
            "G3.y                 G3.y   integer\n"
          ]
        }
      ]
    },
    {
      "cell_type": "markdown",
      "source": [
        "###Percentage of Missing Values\n",
        "Calculate the percentage of missing values in each column."
      ],
      "metadata": {
        "id": "ef6b7fsehN5T"
      }
    },
    {
      "cell_type": "code",
      "source": [
        "# Percentage of missing values for each variable\n",
        "missing_values <- sapply(train_set, function(x) sum(is.na(x)) / length(x) * 100)\n",
        "cat(\"Percentage of Missing Values:\\n\")\n",
        "print(data.frame(Attribute = input_attributes, MissingPercentage = missing_values))\n"
      ],
      "metadata": {
        "colab": {
          "base_uri": "https://localhost:8080/"
        },
        "id": "P9K9_RBDhWHx",
        "outputId": "40773cf0-492f-4571-9d12-6e89927f4d68"
      },
      "execution_count": 7,
      "outputs": [
        {
          "output_type": "stream",
          "name": "stdout",
          "text": [
            "Percentage of Missing Values:\n",
            "                Attribute MissingPercentage\n",
            "school             school                 0\n",
            "sex                   sex                 0\n",
            "age                   age                 0\n",
            "address           address                 0\n",
            "famsize           famsize                 0\n",
            "Pstatus           Pstatus                 0\n",
            "Medu                 Medu                 0\n",
            "Fedu                 Fedu                 0\n",
            "Mjob                 Mjob                 0\n",
            "Fjob                 Fjob                 0\n",
            "reason             reason                 0\n",
            "nursery           nursery                 0\n",
            "internet         internet                 0\n",
            "guardian.x     guardian.x                 0\n",
            "traveltime.x traveltime.x                 0\n",
            "studytime.x   studytime.x                 0\n",
            "failures.x     failures.x                 0\n",
            "schoolsup.x   schoolsup.x                 0\n",
            "famsup.x         famsup.x                 0\n",
            "paid.x             paid.x                 0\n",
            "activities.x activities.x                 0\n",
            "higher.x         higher.x                 0\n",
            "romantic.x     romantic.x                 0\n",
            "famrel.x         famrel.x                 0\n",
            "freetime.x     freetime.x                 0\n",
            "goout.x           goout.x                 0\n",
            "Dalc.x             Dalc.x                 0\n",
            "Walc.x             Walc.x                 0\n",
            "health.x         health.x                 0\n",
            "absences.x     absences.x                 0\n",
            "G1.x                 G1.x                 0\n",
            "G2.x                 G2.x                 0\n",
            "G3.x                 G3.x                 0\n",
            "guardian.y     guardian.y                 0\n",
            "traveltime.y traveltime.y                 0\n",
            "studytime.y   studytime.y                 0\n",
            "failures.y     failures.y                 0\n",
            "schoolsup.y   schoolsup.y                 0\n",
            "famsup.y         famsup.y                 0\n",
            "paid.y             paid.y                 0\n",
            "activities.y activities.y                 0\n",
            "higher.y         higher.y                 0\n",
            "romantic.y     romantic.y                 0\n",
            "famrel.y         famrel.y                 0\n",
            "freetime.y     freetime.y                 0\n",
            "goout.y           goout.y                 0\n",
            "Dalc.y             Dalc.y                 0\n",
            "Walc.y             Walc.y                 0\n",
            "health.y         health.y                 0\n",
            "absences.y     absences.y                 0\n",
            "G1.y                 G1.y                 0\n",
            "G2.y                 G2.y                 0\n",
            "G3.y                 G3.y                 0\n"
          ]
        }
      ]
    },
    {
      "cell_type": "markdown",
      "source": [
        "###Output Attribute (Dependent Variable)\n",
        "Identify the output attribute (dependent variable) and its type. Usually, this is specified in the context of the data or the analysis goal."
      ],
      "metadata": {
        "id": "Z1xPfMKhhte7"
      }
    },
    {
      "cell_type": "code",
      "source": [
        "# Assuming 'G3' as the output variable (final grade)\n",
        "output_variable <- \"G3\"  # Replace with the actual output variable if different\n",
        "output_type <- class(train_set[[output_variable]])\n",
        "cat(\"Output Attribute:\", output_variable, \"\\n\")\n",
        "cat(\"Type:\", output_type, \"\\n\")\n"
      ],
      "metadata": {
        "colab": {
          "base_uri": "https://localhost:8080/"
        },
        "id": "Ct0vO-RRhvGa",
        "outputId": "8bc64b9d-2926-4d91-b834-6195a3f360a3"
      },
      "execution_count": 8,
      "outputs": [
        {
          "output_type": "stream",
          "name": "stdout",
          "text": [
            "Output Attribute: G3 \n",
            "Type: NULL \n"
          ]
        }
      ]
    },
    {
      "cell_type": "markdown",
      "source": [
        "###Compute Variable Correlations"
      ],
      "metadata": {
        "id": "Xhy8StPKiAMu"
      }
    },
    {
      "cell_type": "markdown",
      "source": [
        "####Print the Correlation Matrix"
      ],
      "metadata": {
        "id": "9dkA8HZWreDl"
      }
    },
    {
      "cell_type": "code",
      "source": [
        "# Install and load the pander package\n",
        "if (!require(\"pander\")) install.packages(\"pander\")\n",
        "library(pander)\n",
        "\n",
        "# Calculate the correlation matrix for all numeric variables in the training set\n",
        "correlation_matrix <- cor(train_set[, sapply(train_set, is.numeric)])\n",
        "\n",
        "# Use pander to create a more readable and attractive table in the console\n",
        "pander(round(correlation_matrix, 2))\n",
        "\n"
      ],
      "metadata": {
        "colab": {
          "base_uri": "https://localhost:8080/"
        },
        "id": "5658acYmnqGh",
        "outputId": "768e030b-e7da-43de-c18e-2d120ca4c720"
      },
      "execution_count": 17,
      "outputs": [
        {
          "output_type": "stream",
          "name": "stderr",
          "text": [
            "Loading required package: pander\n",
            "\n",
            "Warning message in library(package, lib.loc = lib.loc, character.only = TRUE, logical.return = TRUE, :\n",
            "“there is no package called ‘pander’”\n",
            "Installing package into ‘/usr/local/lib/R/site-library’\n",
            "(as ‘lib’ is unspecified)\n",
            "\n"
          ]
        },
        {
          "output_type": "stream",
          "name": "stdout",
          "text": [
            "\n",
            "\n",
            "|      &nbsp;      |  age  | Medu  | Fedu  | traveltime.x | studytime.x |\n",
            "|:----------------:|:-----:|:-----:|:-----:|:------------:|:-----------:|\n",
            "|     **age**      |   1   | -0.11 | -0.15 |     0.11     |    -0.01    |\n",
            "|     **Medu**     | -0.11 |   1   |  0.7  |    -0.19     |    -0.08    |\n",
            "|     **Fedu**     | -0.15 |  0.7  |   1   |    -0.17     |    -0.01    |\n",
            "| **traveltime.x** | 0.11  | -0.19 | -0.17 |      1       |    -0.06    |\n",
            "| **studytime.x**  | -0.01 | -0.08 | -0.01 |    -0.06     |      1      |\n",
            "|  **failures.x**  | 0.11  | -0.14 | -0.21 |     0.11     |    -0.08    |\n",
            "|   **famrel.x**   | 0.07  | 0.06  | -0.05 |     0.1      |    0.08     |\n",
            "|  **freetime.x**  | 0.16  | -0.06 | -0.11 |     0.02     |    -0.18    |\n",
            "|   **goout.x**    | 0.21  | 0.03  | -0.01 |     0.09     |    -0.06    |\n",
            "|    **Dalc.x**    | 0.09  | -0.02 | -0.09 |     0.28     |    -0.35    |\n",
            "|    **Walc.x**    | 0.13  | -0.08 | -0.12 |     0.22     |    -0.29    |\n",
            "|   **health.x**   | -0.1  | 0.06  | 0.02  |    -0.04     |    -0.15    |\n",
            "|  **absences.x**  | 0.16  |  0.1  | -0.01 |    -0.01     |    -0.19    |\n",
            "|     **G1.x**     | -0.02 | 0.08  | 0.08  |    -0.13     |    0.12     |\n",
            "|     **G2.x**     | -0.05 | 0.08  | 0.03  |    -0.24     |    0.02     |\n",
            "|     **G3.x**     | -0.02 | 0.04  | -0.01 |    -0.15     |      0      |\n",
            "| **traveltime.y** |  0.1  | -0.2  | -0.18 |     0.99     |    -0.04    |\n",
            "| **studytime.y**  | 0.01  | -0.09 | -0.01 |    -0.05     |    0.97     |\n",
            "|  **failures.y**  | 0.17  | -0.03 | -0.15 |    -0.02     |    -0.16    |\n",
            "|   **famrel.y**   | 0.06  | 0.09  | -0.02 |     0.09     |    0.05     |\n",
            "|  **freetime.y**  | 0.18  | -0.06 | -0.11 |     0.03     |    -0.2     |\n",
            "|   **goout.y**    | 0.21  | 0.01  | -0.03 |     0.09     |    -0.07    |\n",
            "|    **Dalc.y**    |  0.1  | -0.01 | -0.08 |     0.29     |    -0.35    |\n",
            "|    **Walc.y**    | 0.13  | -0.11 | -0.15 |     0.22     |    -0.29    |\n",
            "|   **health.y**   | -0.12 | 0.07  | 0.04  |    -0.06     |    -0.14    |\n",
            "|  **absences.y**  | 0.04  | 0.02  | 0.01  |     -0.1     |    -0.11    |\n",
            "|     **G1.y**     | -0.03 | 0.05  | 0.16  |    -0.21     |    0.16     |\n",
            "|     **G2.y**     | 0.03  | 0.13  | 0.26  |    -0.22     |    0.23     |\n",
            "|     **G3.y**     | 0.04  | 0.05  | 0.19  |    -0.15     |    0.25     |\n",
            "\n",
            "Table: Table continues below\n",
            "\n",
            " \n",
            "\n",
            "|      &nbsp;      | failures.x | famrel.x | freetime.x | goout.x | Dalc.x |\n",
            "|:----------------:|:----------:|:--------:|:----------:|:-------:|:------:|\n",
            "|     **age**      |    0.11    |   0.07   |    0.16    |  0.21   |  0.09  |\n",
            "|     **Medu**     |   -0.14    |   0.06   |   -0.06    |  0.03   | -0.02  |\n",
            "|     **Fedu**     |   -0.21    |  -0.05   |   -0.11    |  -0.01  | -0.09  |\n",
            "| **traveltime.x** |    0.11    |   0.1    |    0.02    |  0.09   |  0.28  |\n",
            "| **studytime.x**  |   -0.08    |   0.08   |   -0.18    |  -0.06  | -0.35  |\n",
            "|  **failures.x**  |     1      |   0.05   |    0.1     |  0.14   |  0.15  |\n",
            "|   **famrel.x**   |    0.05    |    1     |    0.21    |  0.21   |   0    |\n",
            "|  **freetime.x**  |    0.1     |   0.21   |     1      |  0.41   |  0.27  |\n",
            "|   **goout.x**    |    0.14    |   0.21   |    0.41    |    1    |  0.28  |\n",
            "|    **Dalc.x**    |    0.15    |    0     |    0.27    |  0.28   |   1    |\n",
            "|    **Walc.x**    |    0.15    |   0.02   |    0.11    |  0.37   |  0.65  |\n",
            "|   **health.x**   |    0.12    |   0.05   |    0.11    |  0.06   |  0.08  |\n",
            "|  **absences.x**  |    0.1     |  -0.04   |    0.07    |  0.09   |  0.21  |\n",
            "|     **G1.x**     |   -0.33    |   0.09   |    0.19    |  -0.04  | -0.06  |\n",
            "|     **G2.x**     |   -0.35    |    0     |    0.11    |  -0.06  | -0.08  |\n",
            "|     **G3.x**     |   -0.36    |   0.09   |    0.15    |  0.05   | -0.04  |\n",
            "| **traveltime.y** |    0.12    |   0.11   |    0.04    |  0.08   |  0.29  |\n",
            "| **studytime.y**  |   -0.09    |   0.05   |   -0.21    |  -0.07  | -0.35  |\n",
            "|  **failures.y**  |    0.44    |   0.1    |    0.28    |  0.15   |  0.05  |\n",
            "|   **famrel.y**   |    0.05    |   0.94   |    0.16    |  0.17   |  0.02  |\n",
            "|  **freetime.y**  |    0.09    |   0.19   |    0.98    |   0.4   |  0.26  |\n",
            "|   **goout.y**    |    0.14    |   0.19   |    0.4     |  0.97   |  0.3   |\n",
            "|    **Dalc.y**    |    0.14    |   0.01   |    0.26    |  0.31   |  0.99  |\n",
            "|    **Walc.y**    |    0.16    |   0.03   |    0.14    |  0.36   |  0.66  |\n",
            "|   **health.y**   |    0.12    |   0.04   |    0.1     |  0.04   |  0.08  |\n",
            "|  **absences.y**  |    0.22    |   -0.1   |    0.07    |  0.09   |  0.1   |\n",
            "|     **G1.y**     |   -0.28    |    0     |     0      |  -0.09  | -0.17  |\n",
            "|     **G2.y**     |   -0.37    |  -0.01   |   -0.06    |  -0.12  | -0.23  |\n",
            "|     **G3.y**     |   -0.35    |  -0.02   |   -0.05    |  -0.09  | -0.15  |\n",
            "\n",
            "Table: Table continues below\n",
            "\n",
            " \n",
            "\n",
            "|      &nbsp;      | Walc.x | health.x | absences.x | G1.x  | G2.x  |\n",
            "|:----------------:|:------:|:--------:|:----------:|:-----:|:-----:|\n",
            "|     **age**      |  0.13  |   -0.1   |    0.16    | -0.02 | -0.05 |\n",
            "|     **Medu**     | -0.08  |   0.06   |    0.1     | 0.08  | 0.08  |\n",
            "|     **Fedu**     | -0.12  |   0.02   |   -0.01    | 0.08  | 0.03  |\n",
            "| **traveltime.x** |  0.22  |  -0.04   |   -0.01    | -0.13 | -0.24 |\n",
            "| **studytime.x**  | -0.29  |  -0.15   |   -0.19    | 0.12  | 0.02  |\n",
            "|  **failures.x**  |  0.15  |   0.12   |    0.1     | -0.33 | -0.35 |\n",
            "|   **famrel.x**   |  0.02  |   0.05   |   -0.04    | 0.09  |   0   |\n",
            "|  **freetime.x**  |  0.11  |   0.11   |    0.07    | 0.19  | 0.11  |\n",
            "|   **goout.x**    |  0.37  |   0.06   |    0.09    | -0.04 | -0.06 |\n",
            "|    **Dalc.x**    |  0.65  |   0.08   |    0.21    | -0.06 | -0.08 |\n",
            "|    **Walc.x**    |   1    |   0.07   |    0.23    | -0.08 | -0.05 |\n",
            "|   **health.x**   |  0.07  |    1     |    -0.2    | -0.12 | -0.15 |\n",
            "|  **absences.x**  |  0.23  |   -0.2   |     1      | -0.15 | -0.07 |\n",
            "|     **G1.x**     | -0.08  |  -0.12   |   -0.15    |   1   | 0.77  |\n",
            "|     **G2.x**     | -0.05  |  -0.15   |   -0.07    | 0.77  |   1   |\n",
            "|     **G3.x**     |  0.05  |  -0.12   |    0.02    | 0.74  |  0.9  |\n",
            "| **traveltime.y** |  0.21  |  -0.04   |   -0.04    | -0.12 | -0.24 |\n",
            "| **studytime.y**  |  -0.3  |  -0.15   |   -0.17    | 0.09  | -0.01 |\n",
            "|  **failures.y**  |  0.09  |   0.07   |    0.08    | -0.05 | -0.05 |\n",
            "|   **famrel.y**   |  0.03  |   0.04   |   -0.03    | 0.05  | -0.04 |\n",
            "|  **freetime.y**  |  0.11  |   0.11   |    0.09    | 0.17  | 0.09  |\n",
            "|   **goout.y**    |  0.34  |   0.06   |    0.07    | -0.08 | -0.1  |\n",
            "|    **Dalc.y**    |  0.66  |   0.08   |    0.23    | -0.05 | -0.07 |\n",
            "|    **Walc.y**    |  0.98  |   0.08   |    0.2     | -0.1  | -0.06 |\n",
            "|   **health.y**   |  0.07  |   0.98   |   -0.21    | -0.1  | -0.14 |\n",
            "|  **absences.y**  |  0.06  |  -0.06   |    0.49    | -0.24 | -0.23 |\n",
            "|     **G1.y**     | -0.15  |  -0.18   |   -0.06    | 0.51  | 0.45  |\n",
            "|     **G2.y**     |  -0.2  |  -0.25   |   -0.09    | 0.57  | 0.54  |\n",
            "|     **G3.y**     | -0.14  |  -0.24   |   -0.11    | 0.52  | 0.47  |\n",
            "\n",
            "Table: Table continues below\n",
            "\n",
            " \n",
            "\n",
            "|      &nbsp;      | G3.x  | traveltime.y | studytime.y | failures.y |\n",
            "|:----------------:|:-----:|:------------:|:-----------:|:----------:|\n",
            "|     **age**      | -0.02 |     0.1      |    0.01     |    0.17    |\n",
            "|     **Medu**     | 0.04  |     -0.2     |    -0.09    |   -0.03    |\n",
            "|     **Fedu**     | -0.01 |    -0.18     |    -0.01    |   -0.15    |\n",
            "| **traveltime.x** | -0.15 |     0.99     |    -0.05    |   -0.02    |\n",
            "| **studytime.x**  |   0   |    -0.04     |    0.97     |   -0.16    |\n",
            "|  **failures.x**  | -0.36 |     0.12     |    -0.09    |    0.44    |\n",
            "|   **famrel.x**   | 0.09  |     0.11     |    0.05     |    0.1     |\n",
            "|  **freetime.x**  | 0.15  |     0.04     |    -0.21    |    0.28    |\n",
            "|   **goout.x**    | 0.05  |     0.08     |    -0.07    |    0.15    |\n",
            "|    **Dalc.x**    | -0.04 |     0.29     |    -0.35    |    0.05    |\n",
            "|    **Walc.x**    | 0.05  |     0.21     |    -0.3     |    0.09    |\n",
            "|   **health.x**   | -0.12 |    -0.04     |    -0.15    |    0.07    |\n",
            "|  **absences.x**  | 0.02  |    -0.04     |    -0.17    |    0.08    |\n",
            "|     **G1.x**     | 0.74  |    -0.12     |    0.09     |   -0.05    |\n",
            "|     **G2.x**     |  0.9  |    -0.24     |    -0.01    |   -0.05    |\n",
            "|     **G3.x**     |   1   |    -0.15     |    -0.03    |   -0.04    |\n",
            "| **traveltime.y** | -0.15 |      1       |    -0.05    |   -0.01    |\n",
            "| **studytime.y**  | -0.03 |    -0.05     |      1      |   -0.17    |\n",
            "|  **failures.y**  | -0.04 |    -0.01     |    -0.17    |     1      |\n",
            "|   **famrel.y**   | 0.03  |     0.1      |    0.08     |    0.1     |\n",
            "|  **freetime.y**  | 0.13  |     0.03     |    -0.18    |    0.27    |\n",
            "|   **goout.y**    |   0   |     0.09     |    -0.04    |    0.15    |\n",
            "|    **Dalc.y**    | -0.01 |     0.28     |    -0.36    |    0.04    |\n",
            "|    **Walc.y**    | 0.03  |     0.23     |    -0.29    |    0.09    |\n",
            "|   **health.y**   | -0.11 |    -0.05     |    -0.15    |    0.07    |\n",
            "|  **absences.y**  | -0.27 |    -0.09     |    -0.14    |   -0.08    |\n",
            "|     **G1.y**     | 0.41  |    -0.21     |    0.19     |   -0.19    |\n",
            "|     **G2.y**     | 0.48  |    -0.22     |    0.26     |   -0.21    |\n",
            "|     **G3.y**     |  0.4  |    -0.15     |    0.28     |   -0.25    |\n",
            "\n",
            "Table: Table continues below\n",
            "\n",
            " \n",
            "\n",
            "|      &nbsp;      | famrel.y | freetime.y | goout.y | Dalc.y | Walc.y |\n",
            "|:----------------:|:--------:|:----------:|:-------:|:------:|:------:|\n",
            "|     **age**      |   0.06   |    0.18    |  0.21   |  0.1   |  0.13  |\n",
            "|     **Medu**     |   0.09   |   -0.06    |  0.01   | -0.01  | -0.11  |\n",
            "|     **Fedu**     |  -0.02   |   -0.11    |  -0.03  | -0.08  | -0.15  |\n",
            "| **traveltime.x** |   0.09   |    0.03    |  0.09   |  0.29  |  0.22  |\n",
            "| **studytime.x**  |   0.05   |    -0.2    |  -0.07  | -0.35  | -0.29  |\n",
            "|  **failures.x**  |   0.05   |    0.09    |  0.14   |  0.14  |  0.16  |\n",
            "|   **famrel.x**   |   0.94   |    0.19    |  0.19   |  0.01  |  0.03  |\n",
            "|  **freetime.x**  |   0.16   |    0.98    |   0.4   |  0.26  |  0.14  |\n",
            "|   **goout.x**    |   0.17   |    0.4     |  0.97   |  0.31  |  0.36  |\n",
            "|    **Dalc.x**    |   0.02   |    0.26    |   0.3   |  0.99  |  0.66  |\n",
            "|    **Walc.x**    |   0.03   |    0.11    |  0.34   |  0.66  |  0.98  |\n",
            "|   **health.x**   |   0.04   |    0.11    |  0.06   |  0.08  |  0.08  |\n",
            "|  **absences.x**  |  -0.03   |    0.09    |  0.07   |  0.23  |  0.2   |\n",
            "|     **G1.x**     |   0.05   |    0.17    |  -0.08  | -0.05  |  -0.1  |\n",
            "|     **G2.x**     |  -0.04   |    0.09    |  -0.1   | -0.07  | -0.06  |\n",
            "|     **G3.x**     |   0.03   |    0.13    |    0    | -0.01  |  0.03  |\n",
            "| **traveltime.y** |   0.1    |    0.03    |  0.09   |  0.28  |  0.23  |\n",
            "| **studytime.y**  |   0.08   |   -0.18    |  -0.04  | -0.36  | -0.29  |\n",
            "|  **failures.y**  |   0.1    |    0.27    |  0.15   |  0.04  |  0.09  |\n",
            "|   **famrel.y**   |    1     |    0.19    |   0.2   |   0    |  0.03  |\n",
            "|  **freetime.y**  |   0.19   |     1      |  0.43   |  0.25  |  0.13  |\n",
            "|   **goout.y**    |   0.2    |    0.43    |    1    |  0.28  |  0.37  |\n",
            "|    **Dalc.y**    |    0     |    0.25    |  0.28   |   1    |  0.65  |\n",
            "|    **Walc.y**    |   0.03   |    0.13    |  0.37   |  0.65  |   1    |\n",
            "|   **health.y**   |   0.05   |    0.09    |  0.04   |  0.07  |  0.07  |\n",
            "|  **absences.y**  |  -0.13   |    0.04    |  0.06   |  0.11  |  0.05  |\n",
            "|     **G1.y**     |   0.04   |    0.03    |  -0.05  | -0.19  | -0.13  |\n",
            "|     **G2.y**     |   0.03   |   -0.03    |  -0.08  | -0.24  | -0.19  |\n",
            "|     **G3.y**     |   0.02   |   -0.02    |  -0.05  | -0.16  | -0.13  |\n",
            "\n",
            "Table: Table continues below\n",
            "\n",
            " \n",
            "\n",
            "|      &nbsp;      | health.y | absences.y | G1.y  | G2.y  | G3.y  |\n",
            "|:----------------:|:--------:|:----------:|:-----:|:-----:|:-----:|\n",
            "|     **age**      |  -0.12   |    0.04    | -0.03 | 0.03  | 0.04  |\n",
            "|     **Medu**     |   0.07   |    0.02    | 0.05  | 0.13  | 0.05  |\n",
            "|     **Fedu**     |   0.04   |    0.01    | 0.16  | 0.26  | 0.19  |\n",
            "| **traveltime.x** |  -0.06   |    -0.1    | -0.21 | -0.22 | -0.15 |\n",
            "| **studytime.x**  |  -0.14   |   -0.11    | 0.16  | 0.23  | 0.25  |\n",
            "|  **failures.x**  |   0.12   |    0.22    | -0.28 | -0.37 | -0.35 |\n",
            "|   **famrel.x**   |   0.04   |    -0.1    |   0   | -0.01 | -0.02 |\n",
            "|  **freetime.x**  |   0.1    |    0.07    |   0   | -0.06 | -0.05 |\n",
            "|   **goout.x**    |   0.04   |    0.09    | -0.09 | -0.12 | -0.09 |\n",
            "|    **Dalc.x**    |   0.08   |    0.1     | -0.17 | -0.23 | -0.15 |\n",
            "|    **Walc.x**    |   0.07   |    0.06    | -0.15 | -0.2  | -0.14 |\n",
            "|   **health.x**   |   0.98   |   -0.06    | -0.18 | -0.25 | -0.24 |\n",
            "|  **absences.x**  |  -0.21   |    0.49    | -0.06 | -0.09 | -0.11 |\n",
            "|     **G1.x**     |   -0.1   |   -0.24    | 0.51  | 0.57  | 0.52  |\n",
            "|     **G2.x**     |  -0.14   |   -0.23    | 0.45  | 0.54  | 0.47  |\n",
            "|     **G3.x**     |  -0.11   |   -0.27    | 0.41  | 0.48  |  0.4  |\n",
            "| **traveltime.y** |  -0.05   |   -0.09    | -0.21 | -0.22 | -0.15 |\n",
            "| **studytime.y**  |  -0.15   |   -0.14    | 0.19  | 0.26  | 0.28  |\n",
            "|  **failures.y**  |   0.07   |   -0.08    | -0.19 | -0.21 | -0.25 |\n",
            "|   **famrel.y**   |   0.05   |   -0.13    | 0.04  | 0.03  | 0.02  |\n",
            "|  **freetime.y**  |   0.09   |    0.04    | 0.03  | -0.03 | -0.02 |\n",
            "|   **goout.y**    |   0.04   |    0.06    | -0.05 | -0.08 | -0.05 |\n",
            "|    **Dalc.y**    |   0.07   |    0.11    | -0.19 | -0.24 | -0.16 |\n",
            "|    **Walc.y**    |   0.07   |    0.05    | -0.13 | -0.19 | -0.13 |\n",
            "|   **health.y**   |    1     |   -0.04    | -0.18 | -0.24 | -0.24 |\n",
            "|  **absences.y**  |  -0.04   |     1      | -0.16 | -0.21 | -0.18 |\n",
            "|     **G1.y**     |  -0.18   |   -0.16    |   1   | 0.83  | 0.75  |\n",
            "|     **G2.y**     |  -0.24   |   -0.21    | 0.83  |   1   | 0.88  |\n",
            "|     **G3.y**     |  -0.24   |   -0.18    | 0.75  | 0.88  |   1   |\n",
            "\n"
          ]
        }
      ]
    },
    {
      "cell_type": "markdown",
      "source": [
        "####Plot the Correlation Matrix"
      ],
      "metadata": {
        "id": "Lq35NF5grRca"
      }
    },
    {
      "cell_type": "code",
      "source": [
        "# Install the reshape2 package\n",
        "install.packages(\"reshape2\")\n",
        "\n",
        "# Load necessary libraries\n",
        "library(ggplot2)\n",
        "library(reshape2)\n",
        "\n",
        "# Calculate the correlation matrix for numeric columns\n",
        "correlation_matrix <- cor(train_set[, sapply(train_set, is.numeric)])\n",
        "\n",
        "# Melt the correlation matrix for ggplot2\n",
        "melted_correlation_matrix <- melt(correlation_matrix)\n",
        "\n",
        "# Create the heatmap\n",
        "ggplot(melted_correlation_matrix, aes(Var1, Var2, fill = value)) +\n",
        "  geom_tile() +\n",
        "  scale_fill_gradient2(low = \"blue\", high = \"red\", mid = \"white\",\n",
        "                       midpoint = 0, limit = c(-1,1), space = \"Lab\",\n",
        "                       name=\"Pearson\\nCorrelation\") +\n",
        "  theme_minimal() +\n",
        "  theme(axis.text.x = element_text(angle = 45, hjust = 1),\n",
        "        axis.title = element_blank()) +\n",
        "  coord_fixed()\n"
      ],
      "metadata": {
        "colab": {
          "base_uri": "https://localhost:8080/",
          "height": 541
        },
        "id": "-9PG-nC-iBpm",
        "outputId": "c387acdb-e542-4d6f-8c6d-dd65baf0dc53"
      },
      "execution_count": 14,
      "outputs": [
        {
          "output_type": "stream",
          "name": "stderr",
          "text": [
            "Installing package into ‘/usr/local/lib/R/site-library’\n",
            "(as ‘lib’ is unspecified)\n",
            "\n",
            "also installing the dependencies ‘plyr’, ‘Rcpp’\n",
            "\n",
            "\n"
          ]
        },
        {
          "output_type": "display_data",
          "data": {
            "text/plain": [
              "plot without title"
            ],
            "image/png": "[encoded data removed]"
          },
          "metadata": {
            "image/png": {
              "width": 420,
              "height": 420
            }
          }
        }
      ]
    },
    {
      "cell_type": "markdown",
      "source": [
        "####List the Correlation Coefficients\n",
        "\n",
        "1. age and Fedu: -0.15\n",
        "2. Medu and Fedu: 0.7\n",
        "3. traveltime.x and Fedu: -0.17\n",
        "4. studytime.x and Dalc.x: -0.35\n",
        "5. freetime.x and studytime.x: -0.18\n",
        "6. goout.x and freetime.x: 0.41\n",
        "7. Dalc.x and Walc.x: 0.65\n",
        "8. G1.x and G2.x: 0.77\n",
        "9. G2.x and G3.x: 0.9\n",
        "10. G1.y and G2.y: 0.83\n",
        "\n"
      ],
      "metadata": {
        "id": "ir1yNbeCxRv3"
      }
    },
    {
      "cell_type": "markdown",
      "source": [
        "These correlation coefficients indicate the linear relationship between pairs of variables, with 1 meaning a perfect positive correlation, -1 meaning a perfect negative correlation, and 0 meaning no linear correlation. For example, the correlation coefficient of 0.7 between Medu and Fedu suggests a strong positive relationship. As the mother's education level (Medu) increases, the father's education level (Fedu) also increases. Conversely, the correlation of -0.35 between studytime.x and Dalc.x suggests a moderate negative relationship, indicating that as study time increases, daily alcohol consumption tends to decrease."
      ],
      "metadata": {
        "id": "UkOlzPWVyBv2"
      }
    },
    {
      "cell_type": "markdown",
      "source": [
        "###Scatterplots for Variable Relationships\n",
        "Draw scatterplots to visualize relationships between variables. This step requires identifying a few key variables to plot against each other."
      ],
      "metadata": {
        "id": "pWRVTPq6iYpE"
      }
    },
    {
      "cell_type": "code",
      "source": [
        "# Listing the names of all variables in the training set\n",
        "variable_names <- names(train_set)\n",
        "print(variable_names)\n"
      ],
      "metadata": {
        "colab": {
          "base_uri": "https://localhost:8080/"
        },
        "id": "6zvit6tUi5ul",
        "outputId": "8c76397f-f394-4838-ed38-7cc1595c63fe"
      },
      "execution_count": 10,
      "outputs": [
        {
          "output_type": "stream",
          "name": "stdout",
          "text": [
            " [1] \"school\"       \"sex\"          \"age\"          \"address\"      \"famsize\"     \n",
            " [6] \"Pstatus\"      \"Medu\"         \"Fedu\"         \"Mjob\"         \"Fjob\"        \n",
            "[11] \"reason\"       \"nursery\"      \"internet\"     \"guardian.x\"   \"traveltime.x\"\n",
            "[16] \"studytime.x\"  \"failures.x\"   \"schoolsup.x\"  \"famsup.x\"     \"paid.x\"      \n",
            "[21] \"activities.x\" \"higher.x\"     \"romantic.x\"   \"famrel.x\"     \"freetime.x\"  \n",
            "[26] \"goout.x\"      \"Dalc.x\"       \"Walc.x\"       \"health.x\"     \"absences.x\"  \n",
            "[31] \"G1.x\"         \"G2.x\"         \"G3.x\"         \"guardian.y\"   \"traveltime.y\"\n",
            "[36] \"studytime.y\"  \"failures.y\"   \"schoolsup.y\"  \"famsup.y\"     \"paid.y\"      \n",
            "[41] \"activities.y\" \"higher.y\"     \"romantic.y\"   \"famrel.y\"     \"freetime.y\"  \n",
            "[46] \"goout.y\"      \"Dalc.y\"       \"Walc.y\"       \"health.y\"     \"absences.y\"  \n",
            "[51] \"G1.y\"         \"G2.y\"         \"G3.y\"        \n"
          ]
        }
      ]
    },
    {
      "cell_type": "markdown",
      "source": [
        "####1. Final Grade vs Study Time\n",
        "\n",
        "Plotting final grade (G3) against study time (studytime) can reveal if there is a correlation between the amount of time spent studying and academic performance."
      ],
      "metadata": {
        "id": "QFGSwb-2jlCE"
      }
    },
    {
      "cell_type": "code",
      "source": [
        "# Load necessary library for plotting\n",
        "library(ggplot2)\n",
        "\n",
        "# Scatterplot between Final Grade vs Study Time\"\n",
        "ggplot(train_set, aes(x = G3.y, y = studytime.y)) +  # Replace X and Y with variable names\n",
        "  geom_point() +\n",
        "  theme_minimal() +\n",
        "  labs(title = \"Scatterplot of Final Grade vs Study Time\", x = \"Final Grade\", y = \"Study Time\")\n"
      ],
      "metadata": {
        "colab": {
          "base_uri": "https://localhost:8080/",
          "height": 437
        },
        "id": "xz_jlyw-iaIp",
        "outputId": "d5b29455-787e-4e04-f74a-f48f0c828ac3"
      },
      "execution_count": 12,
      "outputs": [
        {
          "output_type": "display_data",
          "data": {
            "text/plain": [
              "plot without title"
            ],
            "image/png": "[encoded data removed]"
          },
          "metadata": {
            "image/png": {
              "width": 420,
              "height": 420
            }
          }
        }
      ]
    }
  ]
}