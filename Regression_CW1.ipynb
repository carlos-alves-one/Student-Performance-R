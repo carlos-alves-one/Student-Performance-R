{
  "nbformat": 4,
  "nbformat_minor": 0,
  "metadata": {
    "colab": {
      "provenance": [],
      "toc_visible": true,
      "include_colab_link": true
    },
    "kernelspec": {
      "name": "ir",
      "display_name": "R"
    },
    "language_info": {
      "name": "R"
    }
  },
  "cells": [
    {
      "cell_type": "markdown",
      "metadata": {
        "id": "view-in-github",
        "colab_type": "text"
      },
      "source": [
        "<a href=\"https://colab.research.google.com/github/carlos-alves-one/-SSDM-Coursework-1/blob/main/Regression_CW1.ipynb\" target=\"_parent\"><img src=\"https://colab.research.google.com/assets/colab-badge.svg\" alt=\"Open In Colab\"/></a>"
      ]
    },
    {
      "cell_type": "markdown",
      "source": [
        "### Goldsmiths University of London\n",
        "### MSc. Data Science and Artificial Intelligence\n",
        "### Module: Statistics and Statistical Data Mining\n",
        "### Author: Carlos Manuel De Oliveira Alves\n",
        "### Student: cdeol003\n",
        "### Coursework No.1"
      ],
      "metadata": {
        "id": "G2ewl_edgCKH"
      }
    },
    {
      "cell_type": "markdown",
      "source": [
        "### Load the data\n",
        "\n",
        "> Run the code in Python 3"
      ],
      "metadata": {
        "id": "HNurKQCXo_CY"
      }
    },
    {
      "cell_type": "code",
      "source": [
        "# Imports the 'drive' module from 'google.colab' and mounts the Google Drive to\n",
        "# the '/content/drive' directory in the Colab environment.\n",
        "from google.colab import drive\n",
        "drive.mount('/content/drive')"
      ],
      "metadata": {
        "id": "lUSgw89UnKLH",
        "colab": {
          "base_uri": "https://localhost:8080/"
        },
        "outputId": "b275b04a-19d4-4869-961a-2e8475caa893"
      },
      "execution_count": 1,
      "outputs": [
        {
          "output_type": "stream",
          "name": "stdout",
          "text": [
            "Mounted at /content/drive\n"
          ]
        }
      ]
    },
    {
      "cell_type": "markdown",
      "source": [
        "> Run the code in R"
      ],
      "metadata": {
        "id": "9u_Dsd1MpNIY"
      }
    },
    {
      "cell_type": "code",
      "source": [
        "# Loading necessary library\n",
        "library(readr)\n",
        "\n",
        "# Loading the datasets using base R read.csv function\n",
        "student_mat <- read.csv(\"/content/drive/MyDrive/student/student-mat.csv\", sep = \";\")\n",
        "student_por <- read.csv(\"/content/drive/MyDrive/student/student-por.csv\", sep = \";\")\n",
        "\n",
        "# Displaying the first few rows of the Mathematics dataset\n",
        "head(student_mat)\n",
        "\n",
        "# Displaying the first few rows of the Portuguese dataset\n",
        "head(student_por)\n"
      ],
      "metadata": {
        "colab": {
          "base_uri": "https://localhost:8080/",
          "height": 554
        },
        "id": "6CxNpITxrIOA",
        "outputId": "1502e43f-b41e-45e2-ad3f-bfd395e53e2e"
      },
      "execution_count": 1,
      "outputs": [
        {
          "output_type": "display_data",
          "data": {
            "text/html": [
              "<table class=\"dataframe\">\n",
              "<caption>A data.frame: 6 × 33</caption>\n",
              "<thead>\n",
              "\t<tr><th></th><th scope=col>school</th><th scope=col>sex</th><th scope=col>age</th><th scope=col>address</th><th scope=col>famsize</th><th scope=col>Pstatus</th><th scope=col>Medu</th><th scope=col>Fedu</th><th scope=col>Mjob</th><th scope=col>Fjob</th><th scope=col>⋯</th><th scope=col>famrel</th><th scope=col>freetime</th><th scope=col>goout</th><th scope=col>Dalc</th><th scope=col>Walc</th><th scope=col>health</th><th scope=col>absences</th><th scope=col>G1</th><th scope=col>G2</th><th scope=col>G3</th></tr>\n",
              "\t<tr><th></th><th scope=col>&lt;chr&gt;</th><th scope=col>&lt;chr&gt;</th><th scope=col>&lt;int&gt;</th><th scope=col>&lt;chr&gt;</th><th scope=col>&lt;chr&gt;</th><th scope=col>&lt;chr&gt;</th><th scope=col>&lt;int&gt;</th><th scope=col>&lt;int&gt;</th><th scope=col>&lt;chr&gt;</th><th scope=col>&lt;chr&gt;</th><th scope=col>⋯</th><th scope=col>&lt;int&gt;</th><th scope=col>&lt;int&gt;</th><th scope=col>&lt;int&gt;</th><th scope=col>&lt;int&gt;</th><th scope=col>&lt;int&gt;</th><th scope=col>&lt;int&gt;</th><th scope=col>&lt;int&gt;</th><th scope=col>&lt;int&gt;</th><th scope=col>&lt;int&gt;</th><th scope=col>&lt;int&gt;</th></tr>\n",
              "</thead>\n",
              "<tbody>\n",
              "\t<tr><th scope=row>1</th><td>GP</td><td>F</td><td>18</td><td>U</td><td>GT3</td><td>A</td><td>4</td><td>4</td><td>at_home </td><td>teacher </td><td>⋯</td><td>4</td><td>3</td><td>4</td><td>1</td><td>1</td><td>3</td><td> 6</td><td> 5</td><td> 6</td><td> 6</td></tr>\n",
              "\t<tr><th scope=row>2</th><td>GP</td><td>F</td><td>17</td><td>U</td><td>GT3</td><td>T</td><td>1</td><td>1</td><td>at_home </td><td>other   </td><td>⋯</td><td>5</td><td>3</td><td>3</td><td>1</td><td>1</td><td>3</td><td> 4</td><td> 5</td><td> 5</td><td> 6</td></tr>\n",
              "\t<tr><th scope=row>3</th><td>GP</td><td>F</td><td>15</td><td>U</td><td>LE3</td><td>T</td><td>1</td><td>1</td><td>at_home </td><td>other   </td><td>⋯</td><td>4</td><td>3</td><td>2</td><td>2</td><td>3</td><td>3</td><td>10</td><td> 7</td><td> 8</td><td>10</td></tr>\n",
              "\t<tr><th scope=row>4</th><td>GP</td><td>F</td><td>15</td><td>U</td><td>GT3</td><td>T</td><td>4</td><td>2</td><td>health  </td><td>services</td><td>⋯</td><td>3</td><td>2</td><td>2</td><td>1</td><td>1</td><td>5</td><td> 2</td><td>15</td><td>14</td><td>15</td></tr>\n",
              "\t<tr><th scope=row>5</th><td>GP</td><td>F</td><td>16</td><td>U</td><td>GT3</td><td>T</td><td>3</td><td>3</td><td>other   </td><td>other   </td><td>⋯</td><td>4</td><td>3</td><td>2</td><td>1</td><td>2</td><td>5</td><td> 4</td><td> 6</td><td>10</td><td>10</td></tr>\n",
              "\t<tr><th scope=row>6</th><td>GP</td><td>M</td><td>16</td><td>U</td><td>LE3</td><td>T</td><td>4</td><td>3</td><td>services</td><td>other   </td><td>⋯</td><td>5</td><td>4</td><td>2</td><td>1</td><td>2</td><td>5</td><td>10</td><td>15</td><td>15</td><td>15</td></tr>\n",
              "</tbody>\n",
              "</table>\n"
            ],
            "text/markdown": "\nA data.frame: 6 × 33\n\n| <!--/--> | school &lt;chr&gt; | sex &lt;chr&gt; | age &lt;int&gt; | address &lt;chr&gt; | famsize &lt;chr&gt; | Pstatus &lt;chr&gt; | Medu &lt;int&gt; | Fedu &lt;int&gt; | Mjob &lt;chr&gt; | Fjob &lt;chr&gt; | ⋯ ⋯ | famrel &lt;int&gt; | freetime &lt;int&gt; | goout &lt;int&gt; | Dalc &lt;int&gt; | Walc &lt;int&gt; | health &lt;int&gt; | absences &lt;int&gt; | G1 &lt;int&gt; | G2 &lt;int&gt; | G3 &lt;int&gt; |\n|---|---|---|---|---|---|---|---|---|---|---|---|---|---|---|---|---|---|---|---|---|---|\n| 1 | GP | F | 18 | U | GT3 | A | 4 | 4 | at_home  | teacher  | ⋯ | 4 | 3 | 4 | 1 | 1 | 3 |  6 |  5 |  6 |  6 |\n| 2 | GP | F | 17 | U | GT3 | T | 1 | 1 | at_home  | other    | ⋯ | 5 | 3 | 3 | 1 | 1 | 3 |  4 |  5 |  5 |  6 |\n| 3 | GP | F | 15 | U | LE3 | T | 1 | 1 | at_home  | other    | ⋯ | 4 | 3 | 2 | 2 | 3 | 3 | 10 |  7 |  8 | 10 |\n| 4 | GP | F | 15 | U | GT3 | T | 4 | 2 | health   | services | ⋯ | 3 | 2 | 2 | 1 | 1 | 5 |  2 | 15 | 14 | 15 |\n| 5 | GP | F | 16 | U | GT3 | T | 3 | 3 | other    | other    | ⋯ | 4 | 3 | 2 | 1 | 2 | 5 |  4 |  6 | 10 | 10 |\n| 6 | GP | M | 16 | U | LE3 | T | 4 | 3 | services | other    | ⋯ | 5 | 4 | 2 | 1 | 2 | 5 | 10 | 15 | 15 | 15 |\n\n",
            "text/latex": "A data.frame: 6 × 33\n\\begin{tabular}{r|lllllllllllllllllllll}\n  & school & sex & age & address & famsize & Pstatus & Medu & Fedu & Mjob & Fjob & ⋯ & famrel & freetime & goout & Dalc & Walc & health & absences & G1 & G2 & G3\\\\\n  & <chr> & <chr> & <int> & <chr> & <chr> & <chr> & <int> & <int> & <chr> & <chr> & ⋯ & <int> & <int> & <int> & <int> & <int> & <int> & <int> & <int> & <int> & <int>\\\\\n\\hline\n\t1 & GP & F & 18 & U & GT3 & A & 4 & 4 & at\\_home  & teacher  & ⋯ & 4 & 3 & 4 & 1 & 1 & 3 &  6 &  5 &  6 &  6\\\\\n\t2 & GP & F & 17 & U & GT3 & T & 1 & 1 & at\\_home  & other    & ⋯ & 5 & 3 & 3 & 1 & 1 & 3 &  4 &  5 &  5 &  6\\\\\n\t3 & GP & F & 15 & U & LE3 & T & 1 & 1 & at\\_home  & other    & ⋯ & 4 & 3 & 2 & 2 & 3 & 3 & 10 &  7 &  8 & 10\\\\\n\t4 & GP & F & 15 & U & GT3 & T & 4 & 2 & health   & services & ⋯ & 3 & 2 & 2 & 1 & 1 & 5 &  2 & 15 & 14 & 15\\\\\n\t5 & GP & F & 16 & U & GT3 & T & 3 & 3 & other    & other    & ⋯ & 4 & 3 & 2 & 1 & 2 & 5 &  4 &  6 & 10 & 10\\\\\n\t6 & GP & M & 16 & U & LE3 & T & 4 & 3 & services & other    & ⋯ & 5 & 4 & 2 & 1 & 2 & 5 & 10 & 15 & 15 & 15\\\\\n\\end{tabular}\n",
            "text/plain": [
              "  school sex age address famsize Pstatus Medu Fedu Mjob     Fjob     ⋯ famrel\n",
              "1 GP     F   18  U       GT3     A       4    4    at_home  teacher  ⋯ 4     \n",
              "2 GP     F   17  U       GT3     T       1    1    at_home  other    ⋯ 5     \n",
              "3 GP     F   15  U       LE3     T       1    1    at_home  other    ⋯ 4     \n",
              "4 GP     F   15  U       GT3     T       4    2    health   services ⋯ 3     \n",
              "5 GP     F   16  U       GT3     T       3    3    other    other    ⋯ 4     \n",
              "6 GP     M   16  U       LE3     T       4    3    services other    ⋯ 5     \n",
              "  freetime goout Dalc Walc health absences G1 G2 G3\n",
              "1 3        4     1    1    3       6        5  6  6\n",
              "2 3        3     1    1    3       4        5  5  6\n",
              "3 3        2     2    3    3      10        7  8 10\n",
              "4 2        2     1    1    5       2       15 14 15\n",
              "5 3        2     1    2    5       4        6 10 10\n",
              "6 4        2     1    2    5      10       15 15 15"
            ]
          },
          "metadata": {}
        },
        {
          "output_type": "display_data",
          "data": {
            "text/html": [
              "<table class=\"dataframe\">\n",
              "<caption>A data.frame: 6 × 33</caption>\n",
              "<thead>\n",
              "\t<tr><th></th><th scope=col>school</th><th scope=col>sex</th><th scope=col>age</th><th scope=col>address</th><th scope=col>famsize</th><th scope=col>Pstatus</th><th scope=col>Medu</th><th scope=col>Fedu</th><th scope=col>Mjob</th><th scope=col>Fjob</th><th scope=col>⋯</th><th scope=col>famrel</th><th scope=col>freetime</th><th scope=col>goout</th><th scope=col>Dalc</th><th scope=col>Walc</th><th scope=col>health</th><th scope=col>absences</th><th scope=col>G1</th><th scope=col>G2</th><th scope=col>G3</th></tr>\n",
              "\t<tr><th></th><th scope=col>&lt;chr&gt;</th><th scope=col>&lt;chr&gt;</th><th scope=col>&lt;int&gt;</th><th scope=col>&lt;chr&gt;</th><th scope=col>&lt;chr&gt;</th><th scope=col>&lt;chr&gt;</th><th scope=col>&lt;int&gt;</th><th scope=col>&lt;int&gt;</th><th scope=col>&lt;chr&gt;</th><th scope=col>&lt;chr&gt;</th><th scope=col>⋯</th><th scope=col>&lt;int&gt;</th><th scope=col>&lt;int&gt;</th><th scope=col>&lt;int&gt;</th><th scope=col>&lt;int&gt;</th><th scope=col>&lt;int&gt;</th><th scope=col>&lt;int&gt;</th><th scope=col>&lt;int&gt;</th><th scope=col>&lt;int&gt;</th><th scope=col>&lt;int&gt;</th><th scope=col>&lt;int&gt;</th></tr>\n",
              "</thead>\n",
              "<tbody>\n",
              "\t<tr><th scope=row>1</th><td>GP</td><td>F</td><td>18</td><td>U</td><td>GT3</td><td>A</td><td>4</td><td>4</td><td>at_home </td><td>teacher </td><td>⋯</td><td>4</td><td>3</td><td>4</td><td>1</td><td>1</td><td>3</td><td>4</td><td> 0</td><td>11</td><td>11</td></tr>\n",
              "\t<tr><th scope=row>2</th><td>GP</td><td>F</td><td>17</td><td>U</td><td>GT3</td><td>T</td><td>1</td><td>1</td><td>at_home </td><td>other   </td><td>⋯</td><td>5</td><td>3</td><td>3</td><td>1</td><td>1</td><td>3</td><td>2</td><td> 9</td><td>11</td><td>11</td></tr>\n",
              "\t<tr><th scope=row>3</th><td>GP</td><td>F</td><td>15</td><td>U</td><td>LE3</td><td>T</td><td>1</td><td>1</td><td>at_home </td><td>other   </td><td>⋯</td><td>4</td><td>3</td><td>2</td><td>2</td><td>3</td><td>3</td><td>6</td><td>12</td><td>13</td><td>12</td></tr>\n",
              "\t<tr><th scope=row>4</th><td>GP</td><td>F</td><td>15</td><td>U</td><td>GT3</td><td>T</td><td>4</td><td>2</td><td>health  </td><td>services</td><td>⋯</td><td>3</td><td>2</td><td>2</td><td>1</td><td>1</td><td>5</td><td>0</td><td>14</td><td>14</td><td>14</td></tr>\n",
              "\t<tr><th scope=row>5</th><td>GP</td><td>F</td><td>16</td><td>U</td><td>GT3</td><td>T</td><td>3</td><td>3</td><td>other   </td><td>other   </td><td>⋯</td><td>4</td><td>3</td><td>2</td><td>1</td><td>2</td><td>5</td><td>0</td><td>11</td><td>13</td><td>13</td></tr>\n",
              "\t<tr><th scope=row>6</th><td>GP</td><td>M</td><td>16</td><td>U</td><td>LE3</td><td>T</td><td>4</td><td>3</td><td>services</td><td>other   </td><td>⋯</td><td>5</td><td>4</td><td>2</td><td>1</td><td>2</td><td>5</td><td>6</td><td>12</td><td>12</td><td>13</td></tr>\n",
              "</tbody>\n",
              "</table>\n"
            ],
            "text/markdown": "\nA data.frame: 6 × 33\n\n| <!--/--> | school &lt;chr&gt; | sex &lt;chr&gt; | age &lt;int&gt; | address &lt;chr&gt; | famsize &lt;chr&gt; | Pstatus &lt;chr&gt; | Medu &lt;int&gt; | Fedu &lt;int&gt; | Mjob &lt;chr&gt; | Fjob &lt;chr&gt; | ⋯ ⋯ | famrel &lt;int&gt; | freetime &lt;int&gt; | goout &lt;int&gt; | Dalc &lt;int&gt; | Walc &lt;int&gt; | health &lt;int&gt; | absences &lt;int&gt; | G1 &lt;int&gt; | G2 &lt;int&gt; | G3 &lt;int&gt; |\n|---|---|---|---|---|---|---|---|---|---|---|---|---|---|---|---|---|---|---|---|---|---|\n| 1 | GP | F | 18 | U | GT3 | A | 4 | 4 | at_home  | teacher  | ⋯ | 4 | 3 | 4 | 1 | 1 | 3 | 4 |  0 | 11 | 11 |\n| 2 | GP | F | 17 | U | GT3 | T | 1 | 1 | at_home  | other    | ⋯ | 5 | 3 | 3 | 1 | 1 | 3 | 2 |  9 | 11 | 11 |\n| 3 | GP | F | 15 | U | LE3 | T | 1 | 1 | at_home  | other    | ⋯ | 4 | 3 | 2 | 2 | 3 | 3 | 6 | 12 | 13 | 12 |\n| 4 | GP | F | 15 | U | GT3 | T | 4 | 2 | health   | services | ⋯ | 3 | 2 | 2 | 1 | 1 | 5 | 0 | 14 | 14 | 14 |\n| 5 | GP | F | 16 | U | GT3 | T | 3 | 3 | other    | other    | ⋯ | 4 | 3 | 2 | 1 | 2 | 5 | 0 | 11 | 13 | 13 |\n| 6 | GP | M | 16 | U | LE3 | T | 4 | 3 | services | other    | ⋯ | 5 | 4 | 2 | 1 | 2 | 5 | 6 | 12 | 12 | 13 |\n\n",
            "text/latex": "A data.frame: 6 × 33\n\\begin{tabular}{r|lllllllllllllllllllll}\n  & school & sex & age & address & famsize & Pstatus & Medu & Fedu & Mjob & Fjob & ⋯ & famrel & freetime & goout & Dalc & Walc & health & absences & G1 & G2 & G3\\\\\n  & <chr> & <chr> & <int> & <chr> & <chr> & <chr> & <int> & <int> & <chr> & <chr> & ⋯ & <int> & <int> & <int> & <int> & <int> & <int> & <int> & <int> & <int> & <int>\\\\\n\\hline\n\t1 & GP & F & 18 & U & GT3 & A & 4 & 4 & at\\_home  & teacher  & ⋯ & 4 & 3 & 4 & 1 & 1 & 3 & 4 &  0 & 11 & 11\\\\\n\t2 & GP & F & 17 & U & GT3 & T & 1 & 1 & at\\_home  & other    & ⋯ & 5 & 3 & 3 & 1 & 1 & 3 & 2 &  9 & 11 & 11\\\\\n\t3 & GP & F & 15 & U & LE3 & T & 1 & 1 & at\\_home  & other    & ⋯ & 4 & 3 & 2 & 2 & 3 & 3 & 6 & 12 & 13 & 12\\\\\n\t4 & GP & F & 15 & U & GT3 & T & 4 & 2 & health   & services & ⋯ & 3 & 2 & 2 & 1 & 1 & 5 & 0 & 14 & 14 & 14\\\\\n\t5 & GP & F & 16 & U & GT3 & T & 3 & 3 & other    & other    & ⋯ & 4 & 3 & 2 & 1 & 2 & 5 & 0 & 11 & 13 & 13\\\\\n\t6 & GP & M & 16 & U & LE3 & T & 4 & 3 & services & other    & ⋯ & 5 & 4 & 2 & 1 & 2 & 5 & 6 & 12 & 12 & 13\\\\\n\\end{tabular}\n",
            "text/plain": [
              "  school sex age address famsize Pstatus Medu Fedu Mjob     Fjob     ⋯ famrel\n",
              "1 GP     F   18  U       GT3     A       4    4    at_home  teacher  ⋯ 4     \n",
              "2 GP     F   17  U       GT3     T       1    1    at_home  other    ⋯ 5     \n",
              "3 GP     F   15  U       LE3     T       1    1    at_home  other    ⋯ 4     \n",
              "4 GP     F   15  U       GT3     T       4    2    health   services ⋯ 3     \n",
              "5 GP     F   16  U       GT3     T       3    3    other    other    ⋯ 4     \n",
              "6 GP     M   16  U       LE3     T       4    3    services other    ⋯ 5     \n",
              "  freetime goout Dalc Walc health absences G1 G2 G3\n",
              "1 3        4     1    1    3      4         0 11 11\n",
              "2 3        3     1    1    3      2         9 11 11\n",
              "3 3        2     2    3    3      6        12 13 12\n",
              "4 2        2     1    1    5      0        14 14 14\n",
              "5 3        2     1    2    5      0        11 13 13\n",
              "6 4        2     1    2    5      6        12 12 13"
            ]
          },
          "metadata": {}
        }
      ]
    },
    {
      "cell_type": "markdown",
      "source": [
        "Dataset source: https://archive.ics.uci.edu/dataset/320/student+performance"
      ],
      "metadata": {
        "id": "pbfC_QBSskc5"
      }
    },
    {
      "cell_type": "markdown",
      "source": [
        "License: This dataset is licensed under a https://creativecommons.org/licenses/by/4.0/legalcode (CC BY 4.0) license."
      ],
      "metadata": {
        "id": "sAOHACx9s1qY"
      }
    },
    {
      "cell_type": "markdown",
      "source": [
        "##Task No.1\n",
        "Describe the regression problem you tackle in this coursework, namely what is the purpose\n",
        "of your analysis"
      ],
      "metadata": {
        "id": "fHp4j6ertj0M"
      }
    },
    {
      "cell_type": "markdown",
      "source": [
        "The regression problem with this dataset, involving student performance in secondary education, is centred around predicting a student's final year grade (G3) in two subjects: Mathematics (mat) and Portuguese language (por). This prediction is based on various explanatory variables provided in the dataset. Let us break down the critical aspects of this regression problem:"
      ],
      "metadata": {
        "id": "5sCSKZTiud0y"
      }
    },
    {
      "cell_type": "markdown",
      "source": [
        "###Objective of the Analysis"
      ],
      "metadata": {
        "id": "UgkPlwIdupY1"
      }
    },
    {
      "cell_type": "markdown",
      "source": [
        "The regression analysis primarily aims to predict students' final grades (G3).\n",
        "\n",
        "This prediction can inform understanding of:\n",
        "\n",
        "- Student Performance: Understanding factors that contribute to higher or lower final grades.\n",
        "\n",
        "- Educational Interventions: Identifying areas where students might require more support or resources.\n",
        "\n",
        "- Policy Making: Informing educational policies and teaching strategies to improve student outcomes."
      ],
      "metadata": {
        "id": "ICNTc1MPvdNo"
      }
    },
    {
      "cell_type": "markdown",
      "source": [
        "###Nature of the Regression Problem"
      ],
      "metadata": {
        "id": "G2D_d7gixX5T"
      }
    },
    {
      "cell_type": "markdown",
      "source": [
        "- Target Variable: The target variable for the regression model is 'G3', the final year grade, which is a continuous numeric value.\n",
        "\n",
        "- Type of Regression: Since the target variable is continuous, this is a typical regression problem (as opposed to a classification problem)."
      ],
      "metadata": {
        "id": "5yBORTm2xdAX"
      }
    },
    {
      "cell_type": "markdown",
      "source": [
        "###Predictor Variables"
      ],
      "metadata": {
        "id": "TnrXPt_5yHot"
      }
    },
    {
      "cell_type": "markdown",
      "source": [
        "This analysis will consider various independent variables, which could include:\n",
        "\n",
        "- Demographic Factors: Age, sex, and address of the students.\n",
        "\n",
        "- Family Background: Parents' education level, job, family size, etc.\n",
        "\n",
        "- School-Related Features: Absences, past failures, extra educational support, etc.\n",
        "\n",
        "- Lifestyle Factors: Going out, weekday alcohol consumption, etc.\n",
        "\n",
        "- Previous Performance: First and second-period grades (G1 and G2). However, considering the strong correlation with G3, we might explore models including and excluding these variables.\n",
        "\n"
      ],
      "metadata": {
        "id": "-vHnYgwlyLtI"
      }
    },
    {
      "cell_type": "markdown",
      "source": [
        "##Task No.2\n",
        "Randomly split the dataset in 3 equal parts: the training set, the validation set and the test set."
      ],
      "metadata": {
        "id": "De7_ow0cJzN5"
      }
    },
    {
      "cell_type": "markdown",
      "source": [
        "The provided R script reads two datasets, student-mat.csv and student-por.csv, from a specified directory and merges them into a single dataframe based on standard columns like school, sex, age, and others. The merging process creates a combined dataset by aligning rows from both files with matching values in these critical columns. Finally, the script displays the total number of rows in the merged dataset and the first few rows for initial inspection."
      ],
      "metadata": {
        "id": "CAfcse11LB1I"
      }
    },
    {
      "cell_type": "markdown",
      "source": [
        "###Merge the CSV Files"
      ],
      "metadata": {
        "id": "0VXrgp9hLIqj"
      }
    },
    {
      "cell_type": "code",
      "source": [
        "# Read the 'student-mat.csv' file into a dataframe 'd1'. The file is separated by semicolons and includes a header row\n",
        "d1 = read.table(\"/content/drive/MyDrive/student/student-mat.csv\", sep=\";\", header=TRUE)\n",
        "\n",
        "# Read the 'student-por.csv' file into a dataframe 'd2'. This file is also separated by semicolons and includes a header row\n",
        "d2 = read.table(\"/content/drive/MyDrive/student/student-por.csv\", sep=\";\", header=TRUE)\n",
        "\n",
        "# Merge the dataframes 'd1' and 'd2' into a new dataframe 'dataset'\n",
        "# The merge is performed on columns: school, sex, age, address, famsize,\n",
        "# Pstatus, Medu, Fedu, Mjob, Fjob, reason, nursery, and internet\n",
        "# These columns are used as keys for merging, meaning rows will be combined when these columns have matching values in both 'd1' and 'd2'\n",
        "dataset = merge(d1, d2, by=c(\"school\", \"sex\", \"age\", \"address\", \"famsize\", \"Pstatus\", \"Medu\", \"Fedu\", \"Mjob\", \"Fjob\", \"reason\", \"nursery\", \"internet\"))\n",
        "\n",
        "# Print the number of rows in the merged dataframe 'd3'. This gives an idea of how many entries are there in the merged dataset.\n",
        "print(nrow(dataset))\n",
        "\n",
        "# Display the first few rows (default is 6) of the merged dataframe 'd3'. This is useful for a quick inspection of the merged data, its structure, and its columns.\n",
        "head(dataset)\n"
      ],
      "metadata": {
        "colab": {
          "base_uri": "https://localhost:8080/",
          "height": 323
        },
        "id": "IvSSMxuPI2tT",
        "outputId": "6584833a-c2d9-4094-d3c3-102a851e5cae"
      },
      "execution_count": 2,
      "outputs": [
        {
          "output_type": "stream",
          "name": "stdout",
          "text": [
            "[1] 382\n"
          ]
        },
        {
          "output_type": "display_data",
          "data": {
            "text/html": [
              "<table class=\"dataframe\">\n",
              "<caption>A data.frame: 6 × 53</caption>\n",
              "<thead>\n",
              "\t<tr><th></th><th scope=col>school</th><th scope=col>sex</th><th scope=col>age</th><th scope=col>address</th><th scope=col>famsize</th><th scope=col>Pstatus</th><th scope=col>Medu</th><th scope=col>Fedu</th><th scope=col>Mjob</th><th scope=col>Fjob</th><th scope=col>⋯</th><th scope=col>famrel.y</th><th scope=col>freetime.y</th><th scope=col>goout.y</th><th scope=col>Dalc.y</th><th scope=col>Walc.y</th><th scope=col>health.y</th><th scope=col>absences.y</th><th scope=col>G1.y</th><th scope=col>G2.y</th><th scope=col>G3.y</th></tr>\n",
              "\t<tr><th></th><th scope=col>&lt;chr&gt;</th><th scope=col>&lt;chr&gt;</th><th scope=col>&lt;int&gt;</th><th scope=col>&lt;chr&gt;</th><th scope=col>&lt;chr&gt;</th><th scope=col>&lt;chr&gt;</th><th scope=col>&lt;int&gt;</th><th scope=col>&lt;int&gt;</th><th scope=col>&lt;chr&gt;</th><th scope=col>&lt;chr&gt;</th><th scope=col>⋯</th><th scope=col>&lt;int&gt;</th><th scope=col>&lt;int&gt;</th><th scope=col>&lt;int&gt;</th><th scope=col>&lt;int&gt;</th><th scope=col>&lt;int&gt;</th><th scope=col>&lt;int&gt;</th><th scope=col>&lt;int&gt;</th><th scope=col>&lt;int&gt;</th><th scope=col>&lt;int&gt;</th><th scope=col>&lt;int&gt;</th></tr>\n",
              "</thead>\n",
              "<tbody>\n",
              "\t<tr><th scope=row>1</th><td>GP</td><td>F</td><td>15</td><td>R</td><td>GT3</td><td>T</td><td>1</td><td>1</td><td>at_home </td><td>other   </td><td>⋯</td><td>3</td><td>1</td><td>2</td><td>1</td><td>1</td><td>1</td><td>4</td><td>13</td><td>13</td><td>13</td></tr>\n",
              "\t<tr><th scope=row>2</th><td>GP</td><td>F</td><td>15</td><td>R</td><td>GT3</td><td>T</td><td>1</td><td>1</td><td>other   </td><td>other   </td><td>⋯</td><td>3</td><td>3</td><td>4</td><td>2</td><td>4</td><td>5</td><td>2</td><td>13</td><td>11</td><td>11</td></tr>\n",
              "\t<tr><th scope=row>3</th><td>GP</td><td>F</td><td>15</td><td>R</td><td>GT3</td><td>T</td><td>2</td><td>2</td><td>at_home </td><td>other   </td><td>⋯</td><td>4</td><td>3</td><td>1</td><td>1</td><td>1</td><td>2</td><td>8</td><td>14</td><td>13</td><td>12</td></tr>\n",
              "\t<tr><th scope=row>4</th><td>GP</td><td>F</td><td>15</td><td>R</td><td>GT3</td><td>T</td><td>2</td><td>4</td><td>services</td><td>health  </td><td>⋯</td><td>4</td><td>3</td><td>2</td><td>1</td><td>1</td><td>5</td><td>2</td><td>10</td><td>11</td><td>10</td></tr>\n",
              "\t<tr><th scope=row>5</th><td>GP</td><td>F</td><td>15</td><td>R</td><td>GT3</td><td>T</td><td>3</td><td>3</td><td>services</td><td>services</td><td>⋯</td><td>4</td><td>2</td><td>1</td><td>2</td><td>3</td><td>3</td><td>2</td><td>13</td><td>13</td><td>13</td></tr>\n",
              "\t<tr><th scope=row>6</th><td>GP</td><td>F</td><td>15</td><td>R</td><td>GT3</td><td>T</td><td>3</td><td>4</td><td>services</td><td>health  </td><td>⋯</td><td>4</td><td>3</td><td>2</td><td>1</td><td>1</td><td>5</td><td>2</td><td>11</td><td>12</td><td>12</td></tr>\n",
              "</tbody>\n",
              "</table>\n"
            ],
            "text/markdown": "\nA data.frame: 6 × 53\n\n| <!--/--> | school &lt;chr&gt; | sex &lt;chr&gt; | age &lt;int&gt; | address &lt;chr&gt; | famsize &lt;chr&gt; | Pstatus &lt;chr&gt; | Medu &lt;int&gt; | Fedu &lt;int&gt; | Mjob &lt;chr&gt; | Fjob &lt;chr&gt; | ⋯ ⋯ | famrel.y &lt;int&gt; | freetime.y &lt;int&gt; | goout.y &lt;int&gt; | Dalc.y &lt;int&gt; | Walc.y &lt;int&gt; | health.y &lt;int&gt; | absences.y &lt;int&gt; | G1.y &lt;int&gt; | G2.y &lt;int&gt; | G3.y &lt;int&gt; |\n|---|---|---|---|---|---|---|---|---|---|---|---|---|---|---|---|---|---|---|---|---|---|\n| 1 | GP | F | 15 | R | GT3 | T | 1 | 1 | at_home  | other    | ⋯ | 3 | 1 | 2 | 1 | 1 | 1 | 4 | 13 | 13 | 13 |\n| 2 | GP | F | 15 | R | GT3 | T | 1 | 1 | other    | other    | ⋯ | 3 | 3 | 4 | 2 | 4 | 5 | 2 | 13 | 11 | 11 |\n| 3 | GP | F | 15 | R | GT3 | T | 2 | 2 | at_home  | other    | ⋯ | 4 | 3 | 1 | 1 | 1 | 2 | 8 | 14 | 13 | 12 |\n| 4 | GP | F | 15 | R | GT3 | T | 2 | 4 | services | health   | ⋯ | 4 | 3 | 2 | 1 | 1 | 5 | 2 | 10 | 11 | 10 |\n| 5 | GP | F | 15 | R | GT3 | T | 3 | 3 | services | services | ⋯ | 4 | 2 | 1 | 2 | 3 | 3 | 2 | 13 | 13 | 13 |\n| 6 | GP | F | 15 | R | GT3 | T | 3 | 4 | services | health   | ⋯ | 4 | 3 | 2 | 1 | 1 | 5 | 2 | 11 | 12 | 12 |\n\n",
            "text/latex": "A data.frame: 6 × 53\n\\begin{tabular}{r|lllllllllllllllllllll}\n  & school & sex & age & address & famsize & Pstatus & Medu & Fedu & Mjob & Fjob & ⋯ & famrel.y & freetime.y & goout.y & Dalc.y & Walc.y & health.y & absences.y & G1.y & G2.y & G3.y\\\\\n  & <chr> & <chr> & <int> & <chr> & <chr> & <chr> & <int> & <int> & <chr> & <chr> & ⋯ & <int> & <int> & <int> & <int> & <int> & <int> & <int> & <int> & <int> & <int>\\\\\n\\hline\n\t1 & GP & F & 15 & R & GT3 & T & 1 & 1 & at\\_home  & other    & ⋯ & 3 & 1 & 2 & 1 & 1 & 1 & 4 & 13 & 13 & 13\\\\\n\t2 & GP & F & 15 & R & GT3 & T & 1 & 1 & other    & other    & ⋯ & 3 & 3 & 4 & 2 & 4 & 5 & 2 & 13 & 11 & 11\\\\\n\t3 & GP & F & 15 & R & GT3 & T & 2 & 2 & at\\_home  & other    & ⋯ & 4 & 3 & 1 & 1 & 1 & 2 & 8 & 14 & 13 & 12\\\\\n\t4 & GP & F & 15 & R & GT3 & T & 2 & 4 & services & health   & ⋯ & 4 & 3 & 2 & 1 & 1 & 5 & 2 & 10 & 11 & 10\\\\\n\t5 & GP & F & 15 & R & GT3 & T & 3 & 3 & services & services & ⋯ & 4 & 2 & 1 & 2 & 3 & 3 & 2 & 13 & 13 & 13\\\\\n\t6 & GP & F & 15 & R & GT3 & T & 3 & 4 & services & health   & ⋯ & 4 & 3 & 2 & 1 & 1 & 5 & 2 & 11 & 12 & 12\\\\\n\\end{tabular}\n",
            "text/plain": [
              "  school sex age address famsize Pstatus Medu Fedu Mjob     Fjob     ⋯ famrel.y\n",
              "1 GP     F   15  R       GT3     T       1    1    at_home  other    ⋯ 3       \n",
              "2 GP     F   15  R       GT3     T       1    1    other    other    ⋯ 3       \n",
              "3 GP     F   15  R       GT3     T       2    2    at_home  other    ⋯ 4       \n",
              "4 GP     F   15  R       GT3     T       2    4    services health   ⋯ 4       \n",
              "5 GP     F   15  R       GT3     T       3    3    services services ⋯ 4       \n",
              "6 GP     F   15  R       GT3     T       3    4    services health   ⋯ 4       \n",
              "  freetime.y goout.y Dalc.y Walc.y health.y absences.y G1.y G2.y G3.y\n",
              "1 1          2       1      1      1        4          13   13   13  \n",
              "2 3          4       2      4      5        2          13   11   11  \n",
              "3 3          1       1      1      2        8          14   13   12  \n",
              "4 3          2       1      1      5        2          10   11   10  \n",
              "5 2          1       2      3      3        2          13   13   13  \n",
              "6 3          2       1      1      5        2          11   12   12  "
            ]
          },
          "metadata": {}
        }
      ]
    },
    {
      "cell_type": "markdown",
      "source": [
        "###Random Slipt the Dataset\n",
        "\n",
        "The script loads the `dplyr` library for data manipulation, sets a random seed for reproducibility, and shuffles a dataset to ensure random distribution. It then divides the randomized dataset into three equal parts for training, validation, and testing, a standard practice in machine learning for model development and evaluation. This approach ensures that each subset is representative of the overall dataset, facilitating practical model training and performance assessment."
      ],
      "metadata": {
        "id": "xY05gNuNLVUi"
      }
    },
    {
      "cell_type": "code",
      "source": [
        "# Load necessary library\n",
        "library(dplyr)\n",
        "\n",
        "# Set seed for reproducibility\n",
        "set.seed(123)\n",
        "\n",
        "# Shuffle the dataset\n",
        "dataset <- dataset[sample(nrow(dataset)), ]\n",
        "\n",
        "# Split the dataset into three equal parts\n",
        "part_size <- nrow(dataset) / 3\n",
        "train_set <- dataset[1:part_size, ]\n",
        "validation_set <- dataset[(part_size + 1):(2 * part_size), ]\n",
        "test_set <- dataset[(2 * part_size + 1):nrow(dataset), ]\n"
      ],
      "metadata": {
        "colab": {
          "base_uri": "https://localhost:8080/"
        },
        "id": "yF4YvIc2GmOZ",
        "outputId": "a5a524df-1837-40f3-9083-fbfd8218a8ca"
      },
      "execution_count": 3,
      "outputs": [
        {
          "output_type": "stream",
          "name": "stderr",
          "text": [
            "\n",
            "Attaching package: ‘dplyr’\n",
            "\n",
            "\n",
            "The following objects are masked from ‘package:stats’:\n",
            "\n",
            "    filter, lag\n",
            "\n",
            "\n",
            "The following objects are masked from ‘package:base’:\n",
            "\n",
            "    intersect, setdiff, setequal, union\n",
            "\n",
            "\n"
          ]
        }
      ]
    },
    {
      "cell_type": "markdown",
      "source": [
        "##Task No.3\n",
        "Understanding the data: Using the training set, provide number of records and number of variables; mention the names of input attributes (independent variables) and their types and provide percentage of missing values; mention the output attribute (dependent variable) and its type. Compute variable correlations. Draw scatterplots with variables to visually."
      ],
      "metadata": {
        "id": "T9e2XV-leYk_"
      }
    },
    {
      "cell_type": "markdown",
      "source": [
        "###Number of Records and Variables\n",
        "This step involves finding out the number of rows (records) and columns (variables) in the training set."
      ],
      "metadata": {
        "id": "HeaMOwiqgP7J"
      }
    },
    {
      "cell_type": "code",
      "source": [
        "# Number of records and variables in the training set\n",
        "num_records <- nrow(train_set)\n",
        "num_variables <- ncol(train_set)\n",
        "cat(\"Number of records....:\", num_records, \"\\n\")\n",
        "cat(\"Number of variables..:\", num_variables, \"\\n\")\n"
      ],
      "metadata": {
        "colab": {
          "base_uri": "https://localhost:8080/"
        },
        "id": "zLUDPkwqeeuj",
        "outputId": "b42d6f3b-9d88-4a61-a7c7-1aa3e783d741"
      },
      "execution_count": 5,
      "outputs": [
        {
          "output_type": "stream",
          "name": "stdout",
          "text": [
            "Number of records....: 127 \n",
            "Number of variables..: 53 \n"
          ]
        }
      ]
    },
    {
      "cell_type": "markdown",
      "source": [
        "###Input Attributes and Their Types\n",
        "Identify the names of the input attributes (independent variables), and mention their types."
      ],
      "metadata": {
        "id": "bldNgXlSgsXx"
      }
    },
    {
      "cell_type": "code",
      "source": [
        "# Names and types of input attributes\n",
        "input_attributes <- names(train_set)\n",
        "attribute_types <- sapply(train_set, class)\n",
        "cat(\"Input Attributes and Their Types:\\n\")\n",
        "print(data.frame(Attribute = input_attributes, Type = attribute_types))\n"
      ],
      "metadata": {
        "colab": {
          "base_uri": "https://localhost:8080/"
        },
        "id": "SvbgeTSpgydo",
        "outputId": "24694604-1b53-4e30-c09c-12e60aaa831e"
      },
      "execution_count": 6,
      "outputs": [
        {
          "output_type": "stream",
          "name": "stdout",
          "text": [
            "Input Attributes and Their Types:\n",
            "                Attribute      Type\n",
            "school             school character\n",
            "sex                   sex character\n",
            "age                   age   integer\n",
            "address           address character\n",
            "famsize           famsize character\n",
            "Pstatus           Pstatus character\n",
            "Medu                 Medu   integer\n",
            "Fedu                 Fedu   integer\n",
            "Mjob                 Mjob character\n",
            "Fjob                 Fjob character\n",
            "reason             reason character\n",
            "nursery           nursery character\n",
            "internet         internet character\n",
            "guardian.x     guardian.x character\n",
            "traveltime.x traveltime.x   integer\n",
            "studytime.x   studytime.x   integer\n",
            "failures.x     failures.x   integer\n",
            "schoolsup.x   schoolsup.x character\n",
            "famsup.x         famsup.x character\n",
            "paid.x             paid.x character\n",
            "activities.x activities.x character\n",
            "higher.x         higher.x character\n",
            "romantic.x     romantic.x character\n",
            "famrel.x         famrel.x   integer\n",
            "freetime.x     freetime.x   integer\n",
            "goout.x           goout.x   integer\n",
            "Dalc.x             Dalc.x   integer\n",
            "Walc.x             Walc.x   integer\n",
            "health.x         health.x   integer\n",
            "absences.x     absences.x   integer\n",
            "G1.x                 G1.x   integer\n",
            "G2.x                 G2.x   integer\n",
            "G3.x                 G3.x   integer\n",
            "guardian.y     guardian.y character\n",
            "traveltime.y traveltime.y   integer\n",
            "studytime.y   studytime.y   integer\n",
            "failures.y     failures.y   integer\n",
            "schoolsup.y   schoolsup.y character\n",
            "famsup.y         famsup.y character\n",
            "paid.y             paid.y character\n",
            "activities.y activities.y character\n",
            "higher.y         higher.y character\n",
            "romantic.y     romantic.y character\n",
            "famrel.y         famrel.y   integer\n",
            "freetime.y     freetime.y   integer\n",
            "goout.y           goout.y   integer\n",
            "Dalc.y             Dalc.y   integer\n",
            "Walc.y             Walc.y   integer\n",
            "health.y         health.y   integer\n",
            "absences.y     absences.y   integer\n",
            "G1.y                 G1.y   integer\n",
            "G2.y                 G2.y   integer\n",
            "G3.y                 G3.y   integer\n"
          ]
        }
      ]
    },
    {
      "cell_type": "markdown",
      "source": [
        "###Percentage of Missing Values\n",
        "Calculate the percentage of missing values in each column."
      ],
      "metadata": {
        "id": "ef6b7fsehN5T"
      }
    },
    {
      "cell_type": "code",
      "source": [
        "# Percentage of missing values for each variable\n",
        "missing_values <- sapply(train_set, function(x) sum(is.na(x)) / length(x) * 100)\n",
        "cat(\"Percentage of Missing Values:\\n\")\n",
        "print(data.frame(Attribute = input_attributes, MissingPercentage = missing_values))\n"
      ],
      "metadata": {
        "colab": {
          "base_uri": "https://localhost:8080/"
        },
        "id": "P9K9_RBDhWHx",
        "outputId": "40773cf0-492f-4571-9d12-6e89927f4d68"
      },
      "execution_count": 7,
      "outputs": [
        {
          "output_type": "stream",
          "name": "stdout",
          "text": [
            "Percentage of Missing Values:\n",
            "                Attribute MissingPercentage\n",
            "school             school                 0\n",
            "sex                   sex                 0\n",
            "age                   age                 0\n",
            "address           address                 0\n",
            "famsize           famsize                 0\n",
            "Pstatus           Pstatus                 0\n",
            "Medu                 Medu                 0\n",
            "Fedu                 Fedu                 0\n",
            "Mjob                 Mjob                 0\n",
            "Fjob                 Fjob                 0\n",
            "reason             reason                 0\n",
            "nursery           nursery                 0\n",
            "internet         internet                 0\n",
            "guardian.x     guardian.x                 0\n",
            "traveltime.x traveltime.x                 0\n",
            "studytime.x   studytime.x                 0\n",
            "failures.x     failures.x                 0\n",
            "schoolsup.x   schoolsup.x                 0\n",
            "famsup.x         famsup.x                 0\n",
            "paid.x             paid.x                 0\n",
            "activities.x activities.x                 0\n",
            "higher.x         higher.x                 0\n",
            "romantic.x     romantic.x                 0\n",
            "famrel.x         famrel.x                 0\n",
            "freetime.x     freetime.x                 0\n",
            "goout.x           goout.x                 0\n",
            "Dalc.x             Dalc.x                 0\n",
            "Walc.x             Walc.x                 0\n",
            "health.x         health.x                 0\n",
            "absences.x     absences.x                 0\n",
            "G1.x                 G1.x                 0\n",
            "G2.x                 G2.x                 0\n",
            "G3.x                 G3.x                 0\n",
            "guardian.y     guardian.y                 0\n",
            "traveltime.y traveltime.y                 0\n",
            "studytime.y   studytime.y                 0\n",
            "failures.y     failures.y                 0\n",
            "schoolsup.y   schoolsup.y                 0\n",
            "famsup.y         famsup.y                 0\n",
            "paid.y             paid.y                 0\n",
            "activities.y activities.y                 0\n",
            "higher.y         higher.y                 0\n",
            "romantic.y     romantic.y                 0\n",
            "famrel.y         famrel.y                 0\n",
            "freetime.y     freetime.y                 0\n",
            "goout.y           goout.y                 0\n",
            "Dalc.y             Dalc.y                 0\n",
            "Walc.y             Walc.y                 0\n",
            "health.y         health.y                 0\n",
            "absences.y     absences.y                 0\n",
            "G1.y                 G1.y                 0\n",
            "G2.y                 G2.y                 0\n",
            "G3.y                 G3.y                 0\n"
          ]
        }
      ]
    },
    {
      "cell_type": "markdown",
      "source": [
        "###Output Attribute (Dependent Variable)\n",
        "Identify the output attribute (dependent variable) and its type. Usually, this is specified in the context of the data or the analysis goal."
      ],
      "metadata": {
        "id": "Z1xPfMKhhte7"
      }
    },
    {
      "cell_type": "code",
      "source": [
        "# Assuming 'G3' as the output variable (final grade)\n",
        "output_variable <- \"G3\"  # Replace with the actual output variable if different\n",
        "output_type <- class(train_set[[output_variable]])\n",
        "cat(\"Output Attribute:\", output_variable, \"\\n\")\n",
        "cat(\"Type:\", output_type, \"\\n\")\n"
      ],
      "metadata": {
        "colab": {
          "base_uri": "https://localhost:8080/"
        },
        "id": "Ct0vO-RRhvGa",
        "outputId": "8bc64b9d-2926-4d91-b834-6195a3f360a3"
      },
      "execution_count": 8,
      "outputs": [
        {
          "output_type": "stream",
          "name": "stdout",
          "text": [
            "Output Attribute: G3 \n",
            "Type: NULL \n"
          ]
        }
      ]
    },
    {
      "cell_type": "markdown",
      "source": [
        "###Compute Variable Correlations\n",
        "Compute correlations among variables."
      ],
      "metadata": {
        "id": "Xhy8StPKiAMu"
      }
    },
    {
      "cell_type": "code",
      "source": [
        "# Correlation matrix\n",
        "correlation_matrix <- cor(train_set[, sapply(train_set, is.numeric)])\n",
        "print(correlation_matrix)\n"
      ],
      "metadata": {
        "colab": {
          "base_uri": "https://localhost:8080/"
        },
        "id": "-9PG-nC-iBpm",
        "outputId": "11338f1f-508f-4114-c8ae-dcde2300c87b"
      },
      "execution_count": 9,
      "outputs": [
        {
          "output_type": "stream",
          "name": "stdout",
          "text": [
            "                      age         Medu         Fedu traveltime.x studytime.x\n",
            "age           1.000000000 -0.111154074 -0.148779179   0.10859617 -0.01274069\n",
            "Medu         -0.111154074  1.000000000  0.695433162  -0.19084141 -0.08184352\n",
            "Fedu         -0.148779179  0.695433162  1.000000000  -0.16851871 -0.01288725\n",
            "traveltime.x  0.108596165 -0.190841412 -0.168518706   1.00000000 -0.05702162\n",
            "studytime.x  -0.012740692 -0.081843525 -0.012887255  -0.05702162  1.00000000\n",
            "failures.x    0.107490702 -0.142370954 -0.207665229   0.11295483 -0.08063229\n",
            "famrel.x      0.067740097  0.061796247 -0.049307105   0.09991909  0.07830969\n",
            "freetime.x    0.157182644 -0.055132208 -0.111822485   0.02417667 -0.18349796\n",
            "goout.x       0.214121715  0.028632340 -0.005250360   0.08811682 -0.06199522\n",
            "Dalc.x        0.091192306 -0.015892306 -0.086517227   0.28237249 -0.34597900\n",
            "Walc.x        0.133005456 -0.080292121 -0.124258800   0.22309456 -0.29289361\n",
            "health.x     -0.095849337  0.056217906  0.022516283  -0.04062299 -0.14567359\n",
            "absences.x    0.164874018  0.098567114 -0.007756052  -0.01150562 -0.18810986\n",
            "G1.x         -0.019478806  0.081177380  0.082340198  -0.12798864  0.12010894\n",
            "G2.x         -0.049863612  0.077070786  0.025519395  -0.24192567  0.01643919\n",
            "G3.x         -0.021424757  0.038485969 -0.005490412  -0.15424238 -0.00197441\n",
            "traveltime.y  0.095285737 -0.201735912 -0.182069155   0.99344506 -0.04451857\n",
            "studytime.y   0.007942176 -0.086053781 -0.010940678  -0.04967706  0.97049386\n",
            "failures.y    0.174759482 -0.030845016 -0.148090630  -0.01756956 -0.15959269\n",
            "famrel.y      0.063690644  0.088390657 -0.020477738   0.09482940  0.04519572\n",
            "freetime.y    0.175651368 -0.059404076 -0.110607978   0.03035314 -0.20472561\n",
            "goout.y       0.212633967  0.008108587 -0.026124279   0.08750457 -0.07069845\n",
            "Dalc.y        0.101849680 -0.007274633 -0.075807963   0.28795002 -0.34603675\n",
            "Walc.y        0.128694966 -0.105890755 -0.153788865   0.22425124 -0.28712751\n",
            "health.y     -0.122559510  0.070368146  0.036218983  -0.05871604 -0.13677571\n",
            "absences.y    0.043993673  0.021298787  0.010385986  -0.09970903 -0.10701038\n",
            "G1.y         -0.030607594  0.045492503  0.157960830  -0.20871142  0.15716596\n",
            "G2.y          0.032825973  0.132932972  0.255284207  -0.21984865  0.22958421\n",
            "G3.y          0.037261652  0.051349136  0.186424331  -0.14649117  0.24845815\n",
            "              failures.x     famrel.x  freetime.x     goout.x       Dalc.x\n",
            "age           0.10749070  0.067740097  0.15718264  0.21412171  0.091192306\n",
            "Medu         -0.14237095  0.061796247 -0.05513221  0.02863234 -0.015892306\n",
            "Fedu         -0.20766523 -0.049307105 -0.11182248 -0.00525036 -0.086517227\n",
            "traveltime.x  0.11295483  0.099919087  0.02417667  0.08811682  0.282372492\n",
            "studytime.x  -0.08063229  0.078309693 -0.18349796 -0.06199522 -0.345978996\n",
            "failures.x    1.00000000  0.054625585  0.09791588  0.14136403  0.146845561\n",
            "famrel.x      0.05462558  1.000000000  0.21214822  0.20613989  0.003438441\n",
            "freetime.x    0.09791588  0.212148217  1.00000000  0.40645633  0.266798767\n",
            "goout.x       0.14136403  0.206139885  0.40645633  1.00000000  0.284141000\n",
            "Dalc.x        0.14684556  0.003438441  0.26679877  0.28414100  1.000000000\n",
            "Walc.x        0.15397613  0.021144201  0.11300583  0.37004740  0.645437700\n",
            "health.x      0.12174288  0.047050410  0.11496020  0.05575058  0.080662800\n",
            "absences.x    0.09878624 -0.039661160  0.07364353  0.09062788  0.209330154\n",
            "G1.x         -0.32817665  0.092034887  0.19376843 -0.03753314 -0.063784099\n",
            "G2.x         -0.34821058  0.001657065  0.11202461 -0.06299022 -0.084927984\n",
            "G3.x         -0.36320055  0.088065602  0.15236766  0.04973664 -0.036991822\n",
            "traveltime.y  0.11693431  0.111903857  0.03819910  0.08101389  0.288174450\n",
            "studytime.y  -0.09139363  0.054898636 -0.21203503 -0.06876193 -0.350249755\n",
            "failures.y    0.43947366  0.100080832  0.27731259  0.14786129  0.046205274\n",
            "famrel.y      0.05142167  0.943001951  0.16229961  0.17081672  0.017065868\n",
            "freetime.y    0.08852407  0.192997815  0.97796430  0.40175889  0.262318294\n",
            "goout.y       0.14038181  0.187803914  0.40363221  0.96516208  0.297389850\n",
            "Dalc.y        0.14376428  0.012515020  0.26438762  0.30526447  0.987477008\n",
            "Walc.y        0.15989269  0.028873779  0.13788517  0.35767299  0.663336378\n",
            "health.y      0.12236502  0.040061398  0.09702325  0.04026138  0.082809071\n",
            "absences.y    0.22030575 -0.100240477  0.06595890  0.08768989  0.096574080\n",
            "G1.y         -0.28192488 -0.003547039  0.00000000 -0.09363746 -0.169302562\n",
            "G2.y         -0.37363935 -0.006211653 -0.05927841 -0.12303500 -0.225700800\n",
            "G3.y         -0.34834637 -0.017647836 -0.04887495 -0.08852244 -0.148352369\n",
            "                  Walc.x    health.x   absences.x        G1.x         G2.x\n",
            "age           0.13300546 -0.09584934  0.164874018 -0.01947881 -0.049863612\n",
            "Medu         -0.08029212  0.05621791  0.098567114  0.08117738  0.077070786\n",
            "Fedu         -0.12425880  0.02251628 -0.007756052  0.08234020  0.025519395\n",
            "traveltime.x  0.22309456 -0.04062299 -0.011505620 -0.12798864 -0.241925667\n",
            "studytime.x  -0.29289361 -0.14567359 -0.188109862  0.12010894  0.016439189\n",
            "failures.x    0.15397613  0.12174288  0.098786244 -0.32817665 -0.348210580\n",
            "famrel.x      0.02114420  0.04705041 -0.039661160  0.09203489  0.001657065\n",
            "freetime.x    0.11300583  0.11496020  0.073643531  0.19376843  0.112024607\n",
            "goout.x       0.37004740  0.05575058  0.090627877 -0.03753314 -0.062990221\n",
            "Dalc.x        0.64543770  0.08066280  0.209330154 -0.06378410 -0.084927984\n",
            "Walc.x        1.00000000  0.06766476  0.233729022 -0.08377783 -0.045356544\n",
            "health.x      0.06766476  1.00000000 -0.196196058 -0.11784587 -0.152644846\n",
            "absences.x    0.23372902 -0.19619606  1.000000000 -0.15142068 -0.073000438\n",
            "G1.x         -0.08377783 -0.11784587 -0.151420678  1.00000000  0.771940869\n",
            "G2.x         -0.04535654 -0.15264485 -0.073000438  0.77194087  1.000000000\n",
            "G3.x          0.05462536 -0.12065817  0.018758208  0.74022567  0.900483675\n",
            "traveltime.y  0.20975382 -0.03591745 -0.036570345 -0.12262255 -0.238165592\n",
            "studytime.y  -0.29940791 -0.15115008 -0.171933631  0.08548293 -0.007281485\n",
            "failures.y    0.09033001  0.07122883  0.080748885 -0.04933043 -0.049435022\n",
            "famrel.y      0.02593406  0.03646377 -0.025517872  0.05305228 -0.035026771\n",
            "freetime.y    0.10628207  0.10988989  0.087005399  0.16502554  0.091924867\n",
            "goout.y       0.33798714  0.06078429  0.066394041 -0.07730769 -0.097420917\n",
            "Dalc.y        0.66285292  0.07693928  0.231719986 -0.04739306 -0.068841523\n",
            "Walc.y        0.97987328  0.07861784  0.204174141 -0.10185520 -0.062489481\n",
            "health.y      0.06839936  0.98125105 -0.210976394 -0.09873043 -0.136538416\n",
            "absences.y    0.05971834 -0.05504598  0.485265785 -0.23520615 -0.234135658\n",
            "G1.y         -0.15098585 -0.17518235 -0.055384113  0.51492834  0.452010337\n",
            "G2.y         -0.20197059 -0.24775880 -0.094016536  0.56915912  0.543959969\n",
            "G3.y         -0.13760211 -0.24272660 -0.113869453  0.52266136  0.467051854\n",
            "                      G3.x traveltime.y  studytime.y  failures.y     famrel.y\n",
            "age          -0.0214247571   0.09528574  0.007942176  0.17475948  0.063690644\n",
            "Medu          0.0384859695  -0.20173591 -0.086053781 -0.03084502  0.088390657\n",
            "Fedu         -0.0054904118  -0.18206915 -0.010940678 -0.14809063 -0.020477738\n",
            "traveltime.x -0.1542423822   0.99344506 -0.049677057 -0.01756956  0.094829396\n",
            "studytime.x  -0.0019744105  -0.04451857  0.970493863 -0.15959269  0.045195723\n",
            "failures.x   -0.3632005454   0.11693431 -0.091393633  0.43947366  0.051421666\n",
            "famrel.x      0.0880656025   0.11190386  0.054898636  0.10008083  0.943001951\n",
            "freetime.x    0.1523676575   0.03819910 -0.212035026  0.27731259  0.162299609\n",
            "goout.x       0.0497366376   0.08101389 -0.068761925  0.14786129  0.170816716\n",
            "Dalc.x       -0.0369918222   0.28817445 -0.350249755  0.04620527  0.017065868\n",
            "Walc.x        0.0546253559   0.20975382 -0.299407911  0.09033001  0.025934062\n",
            "health.x     -0.1206581655  -0.03591745 -0.151150082  0.07122883  0.036463774\n",
            "absences.x    0.0187582075  -0.03657034 -0.171933631  0.08074888 -0.025517872\n",
            "G1.x          0.7402256734  -0.12262255  0.085482930 -0.04933043  0.053052285\n",
            "G2.x          0.9004836751  -0.23816559 -0.007281485 -0.04943502 -0.035026771\n",
            "G3.x          1.0000000000  -0.15190713 -0.034101191 -0.04081902  0.027118869\n",
            "traveltime.y -0.1519071286   1.00000000 -0.049494981 -0.01490059  0.095228821\n",
            "studytime.y  -0.0341011906  -0.04949498  1.000000000 -0.16627789  0.077314957\n",
            "failures.y   -0.0408190235  -0.01490059 -0.166277891  1.00000000  0.098254281\n",
            "famrel.y      0.0271188694   0.09522882  0.077314957  0.09825428  1.000000000\n",
            "freetime.y    0.1250246482   0.03379342 -0.182283139  0.27171806  0.191009289\n",
            "goout.y      -0.0005454072   0.09001773 -0.041041997  0.14683393  0.203622745\n",
            "Dalc.y       -0.0105593237   0.28331794 -0.360531940  0.04409483 -0.001913311\n",
            "Walc.y        0.0330839298   0.22709862 -0.293362100  0.09424851  0.033851805\n",
            "health.y     -0.1127762864  -0.04674301 -0.149073191  0.07179797  0.049330296\n",
            "absences.y   -0.2659556378  -0.09215669 -0.138973099 -0.08150601 -0.134958903\n",
            "G1.y          0.4103546647  -0.20877658  0.194359173 -0.19159913  0.042798038\n",
            "G2.y          0.4849162495  -0.21902554  0.262916955 -0.20679640  0.031655238\n",
            "G3.y          0.4042083703  -0.14837112  0.279871443 -0.25349527  0.022683658\n",
            "              freetime.y       goout.y       Dalc.y      Walc.y    health.y\n",
            "age           0.17565137  0.2126339675  0.101849680  0.12869497 -0.12255951\n",
            "Medu         -0.05940408  0.0081085866 -0.007274633 -0.10589075  0.07036815\n",
            "Fedu         -0.11060798 -0.0261242794 -0.075807963 -0.15378887  0.03621898\n",
            "traveltime.x  0.03035314  0.0875045679  0.287950015  0.22425124 -0.05871604\n",
            "studytime.x  -0.20472561 -0.0706984460 -0.346036751 -0.28712751 -0.13677571\n",
            "failures.x    0.08852407  0.1403818123  0.143764283  0.15989269  0.12236502\n",
            "famrel.x      0.19299782  0.1878039137  0.012515020  0.02887378  0.04006140\n",
            "freetime.x    0.97796430  0.4036322121  0.264387615  0.13788517  0.09702325\n",
            "goout.x       0.40175889  0.9651620818  0.305264474  0.35767299  0.04026138\n",
            "Dalc.x        0.26231829  0.2973898495  0.987477008  0.66333638  0.08280907\n",
            "Walc.x        0.10628207  0.3379871366  0.662852917  0.97987328  0.06839936\n",
            "health.x      0.10988989  0.0607842882  0.076939280  0.07861784  0.98125105\n",
            "absences.x    0.08700540  0.0663940407  0.231719986  0.20417414 -0.21097639\n",
            "G1.x          0.16502554 -0.0773076885 -0.047393058 -0.10185520 -0.09873043\n",
            "G2.x          0.09192487 -0.0974209168 -0.068841523 -0.06248948 -0.13653842\n",
            "G3.x          0.12502465 -0.0005454072 -0.010559324  0.03308393 -0.11277629\n",
            "traveltime.y  0.03379342  0.0900177313  0.283317945  0.22709862 -0.04674301\n",
            "studytime.y  -0.18228314 -0.0410419966 -0.360531940 -0.29336210 -0.14907319\n",
            "failures.y    0.27171806  0.1468339262  0.044094834  0.09424851  0.07179797\n",
            "famrel.y      0.19100929  0.2036227451 -0.001913311  0.03385180  0.04933030\n",
            "freetime.y    1.00000000  0.4305024182  0.251021302  0.13152471  0.08601029\n",
            "goout.y       0.43050242  1.0000000000  0.280299772  0.36706171  0.03998163\n",
            "Dalc.y        0.25102130  0.2802997722  1.000000000  0.65485908  0.07329741\n",
            "Walc.y        0.13152471  0.3670617059  0.654859076  1.00000000  0.06997283\n",
            "health.y      0.08601029  0.0399816339  0.073297409  0.06997283  1.00000000\n",
            "absences.y    0.03790959  0.0591426608  0.105938442  0.05275805 -0.04145287\n",
            "G1.y          0.03308624 -0.0464934284 -0.191739089 -0.13205442 -0.17739431\n",
            "G2.y         -0.02939464 -0.0843494745 -0.243834717 -0.18868754 -0.24403685\n",
            "G3.y         -0.02052390 -0.0536612499 -0.164333414 -0.12723857 -0.24059470\n",
            "              absences.y         G1.y         G2.y        G3.y\n",
            "age           0.04399367 -0.030607594  0.032825973  0.03726165\n",
            "Medu          0.02129879  0.045492503  0.132932972  0.05134914\n",
            "Fedu          0.01038599  0.157960830  0.255284207  0.18642433\n",
            "traveltime.x -0.09970903 -0.208711423 -0.219848652 -0.14649117\n",
            "studytime.x  -0.10701038  0.157165959  0.229584209  0.24845815\n",
            "failures.x    0.22030575 -0.281924877 -0.373639345 -0.34834637\n",
            "famrel.x     -0.10024048 -0.003547039 -0.006211653 -0.01764784\n",
            "freetime.x    0.06595890  0.000000000 -0.059278410 -0.04887495\n",
            "goout.x       0.08768989 -0.093637463 -0.123035004 -0.08852244\n",
            "Dalc.x        0.09657408 -0.169302562 -0.225700800 -0.14835237\n",
            "Walc.x        0.05971834 -0.150985845 -0.201970588 -0.13760211\n",
            "health.x     -0.05504598 -0.175182351 -0.247758805 -0.24272660\n",
            "absences.x    0.48526579 -0.055384113 -0.094016536 -0.11386945\n",
            "G1.x         -0.23520615  0.514928341  0.569159123  0.52266136\n",
            "G2.x         -0.23413566  0.452010337  0.543959969  0.46705185\n",
            "G3.x         -0.26595564  0.410354665  0.484916250  0.40420837\n",
            "traveltime.y -0.09215669 -0.208776581 -0.219025544 -0.14837112\n",
            "studytime.y  -0.13897310  0.194359173  0.262916955  0.27987144\n",
            "failures.y   -0.08150601 -0.191599125 -0.206796396 -0.25349527\n",
            "famrel.y     -0.13495890  0.042798038  0.031655238  0.02268366\n",
            "freetime.y    0.03790959  0.033086239 -0.029394641 -0.02052390\n",
            "goout.y       0.05914266 -0.046493428 -0.084349475 -0.05366125\n",
            "Dalc.y        0.10593844 -0.191739089 -0.243834717 -0.16433341\n",
            "Walc.y        0.05275805 -0.132054418 -0.188687541 -0.12723857\n",
            "health.y     -0.04145287 -0.177394314 -0.244036852 -0.24059470\n",
            "absences.y    1.00000000 -0.157699887 -0.205534368 -0.17779425\n",
            "G1.y         -0.15769989  1.000000000  0.829554315  0.75067579\n",
            "G2.y         -0.20553437  0.829554315  1.000000000  0.88290095\n",
            "G3.y         -0.17779425  0.750675788  0.882900949  1.00000000\n"
          ]
        }
      ]
    }
  ]
}