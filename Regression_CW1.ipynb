{
  "nbformat": 4,
  "nbformat_minor": 0,
  "metadata": {
    "colab": {
      "provenance": [],
      "toc_visible": true,
      "include_colab_link": true
    },
    "kernelspec": {
      "name": "ir",
      "display_name": "R"
    },
    "language_info": {
      "name": "R"
    }
  },
  "cells": [
    {
      "cell_type": "markdown",
      "metadata": {
        "id": "view-in-github",
        "colab_type": "text"
      },
      "source": [
        "<a href=\"https://colab.research.google.com/github/carlos-alves-one/-SSDM-Coursework-1/blob/main/Regression_CW1.ipynb\" target=\"_parent\"><img src=\"https://colab.research.google.com/assets/colab-badge.svg\" alt=\"Open In Colab\"/></a>"
      ]
    },
    {
      "cell_type": "markdown",
      "source": [
        "### Goldsmiths University of London\n",
        "### MSc. Data Science and Artificial Intelligence\n",
        "### Module: Statistics and Statistical Data Mining\n",
        "### Author: Carlos Manuel De Oliveira Alves\n",
        "### Student: cdeol003\n",
        "### Coursework No.1"
      ],
      "metadata": {
        "id": "G2ewl_edgCKH"
      }
    },
    {
      "cell_type": "markdown",
      "source": [
        "### Load the data\n",
        "\n",
        "> Run the code in Python 3"
      ],
      "metadata": {
        "id": "HNurKQCXo_CY"
      }
    },
    {
      "cell_type": "code",
      "source": [
        "# Imports the 'drive' module from 'google.colab' and mounts the Google Drive to\n",
        "# the '/content/drive' directory in the Colab environment.\n",
        "from google.colab import drive\n",
        "drive.mount('/content/drive')"
      ],
      "metadata": {
        "id": "lUSgw89UnKLH",
        "colab": {
          "base_uri": "https://localhost:8080/"
        },
        "outputId": "b275b04a-19d4-4869-961a-2e8475caa893"
      },
      "execution_count": 1,
      "outputs": [
        {
          "output_type": "stream",
          "name": "stdout",
          "text": [
            "Mounted at /content/drive\n"
          ]
        }
      ]
    },
    {
      "cell_type": "markdown",
      "source": [
        "> Run the code in R"
      ],
      "metadata": {
        "id": "9u_Dsd1MpNIY"
      }
    },
    {
      "cell_type": "code",
      "source": [
        "# Loading necessary library\n",
        "library(readr)\n",
        "\n",
        "# Loading the datasets using base R read.csv function\n",
        "student_mat <- read.csv(\"/content/drive/MyDrive/student/student-mat.csv\", sep = \";\")\n",
        "student_por <- read.csv(\"/content/drive/MyDrive/student/student-por.csv\", sep = \";\")\n",
        "\n",
        "# Displaying the first few rows of the Mathematics dataset\n",
        "head(student_mat)\n",
        "\n",
        "# Displaying the first few rows of the Portuguese dataset\n",
        "head(student_por)\n"
      ],
      "metadata": {
        "colab": {
          "base_uri": "https://localhost:8080/",
          "height": 554
        },
        "id": "6CxNpITxrIOA",
        "outputId": "1502e43f-b41e-45e2-ad3f-bfd395e53e2e"
      },
      "execution_count": 1,
      "outputs": [
        {
          "output_type": "display_data",
          "data": {
            "text/html": [
              "<table class=\"dataframe\">\n",
              "<caption>A data.frame: 6 × 33</caption>\n",
              "<thead>\n",
              "\t<tr><th></th><th scope=col>school</th><th scope=col>sex</th><th scope=col>age</th><th scope=col>address</th><th scope=col>famsize</th><th scope=col>Pstatus</th><th scope=col>Medu</th><th scope=col>Fedu</th><th scope=col>Mjob</th><th scope=col>Fjob</th><th scope=col>⋯</th><th scope=col>famrel</th><th scope=col>freetime</th><th scope=col>goout</th><th scope=col>Dalc</th><th scope=col>Walc</th><th scope=col>health</th><th scope=col>absences</th><th scope=col>G1</th><th scope=col>G2</th><th scope=col>G3</th></tr>\n",
              "\t<tr><th></th><th scope=col>&lt;chr&gt;</th><th scope=col>&lt;chr&gt;</th><th scope=col>&lt;int&gt;</th><th scope=col>&lt;chr&gt;</th><th scope=col>&lt;chr&gt;</th><th scope=col>&lt;chr&gt;</th><th scope=col>&lt;int&gt;</th><th scope=col>&lt;int&gt;</th><th scope=col>&lt;chr&gt;</th><th scope=col>&lt;chr&gt;</th><th scope=col>⋯</th><th scope=col>&lt;int&gt;</th><th scope=col>&lt;int&gt;</th><th scope=col>&lt;int&gt;</th><th scope=col>&lt;int&gt;</th><th scope=col>&lt;int&gt;</th><th scope=col>&lt;int&gt;</th><th scope=col>&lt;int&gt;</th><th scope=col>&lt;int&gt;</th><th scope=col>&lt;int&gt;</th><th scope=col>&lt;int&gt;</th></tr>\n",
              "</thead>\n",
              "<tbody>\n",
              "\t<tr><th scope=row>1</th><td>GP</td><td>F</td><td>18</td><td>U</td><td>GT3</td><td>A</td><td>4</td><td>4</td><td>at_home </td><td>teacher </td><td>⋯</td><td>4</td><td>3</td><td>4</td><td>1</td><td>1</td><td>3</td><td> 6</td><td> 5</td><td> 6</td><td> 6</td></tr>\n",
              "\t<tr><th scope=row>2</th><td>GP</td><td>F</td><td>17</td><td>U</td><td>GT3</td><td>T</td><td>1</td><td>1</td><td>at_home </td><td>other   </td><td>⋯</td><td>5</td><td>3</td><td>3</td><td>1</td><td>1</td><td>3</td><td> 4</td><td> 5</td><td> 5</td><td> 6</td></tr>\n",
              "\t<tr><th scope=row>3</th><td>GP</td><td>F</td><td>15</td><td>U</td><td>LE3</td><td>T</td><td>1</td><td>1</td><td>at_home </td><td>other   </td><td>⋯</td><td>4</td><td>3</td><td>2</td><td>2</td><td>3</td><td>3</td><td>10</td><td> 7</td><td> 8</td><td>10</td></tr>\n",
              "\t<tr><th scope=row>4</th><td>GP</td><td>F</td><td>15</td><td>U</td><td>GT3</td><td>T</td><td>4</td><td>2</td><td>health  </td><td>services</td><td>⋯</td><td>3</td><td>2</td><td>2</td><td>1</td><td>1</td><td>5</td><td> 2</td><td>15</td><td>14</td><td>15</td></tr>\n",
              "\t<tr><th scope=row>5</th><td>GP</td><td>F</td><td>16</td><td>U</td><td>GT3</td><td>T</td><td>3</td><td>3</td><td>other   </td><td>other   </td><td>⋯</td><td>4</td><td>3</td><td>2</td><td>1</td><td>2</td><td>5</td><td> 4</td><td> 6</td><td>10</td><td>10</td></tr>\n",
              "\t<tr><th scope=row>6</th><td>GP</td><td>M</td><td>16</td><td>U</td><td>LE3</td><td>T</td><td>4</td><td>3</td><td>services</td><td>other   </td><td>⋯</td><td>5</td><td>4</td><td>2</td><td>1</td><td>2</td><td>5</td><td>10</td><td>15</td><td>15</td><td>15</td></tr>\n",
              "</tbody>\n",
              "</table>\n"
            ],
            "text/markdown": "\nA data.frame: 6 × 33\n\n| <!--/--> | school &lt;chr&gt; | sex &lt;chr&gt; | age &lt;int&gt; | address &lt;chr&gt; | famsize &lt;chr&gt; | Pstatus &lt;chr&gt; | Medu &lt;int&gt; | Fedu &lt;int&gt; | Mjob &lt;chr&gt; | Fjob &lt;chr&gt; | ⋯ ⋯ | famrel &lt;int&gt; | freetime &lt;int&gt; | goout &lt;int&gt; | Dalc &lt;int&gt; | Walc &lt;int&gt; | health &lt;int&gt; | absences &lt;int&gt; | G1 &lt;int&gt; | G2 &lt;int&gt; | G3 &lt;int&gt; |\n|---|---|---|---|---|---|---|---|---|---|---|---|---|---|---|---|---|---|---|---|---|---|\n| 1 | GP | F | 18 | U | GT3 | A | 4 | 4 | at_home  | teacher  | ⋯ | 4 | 3 | 4 | 1 | 1 | 3 |  6 |  5 |  6 |  6 |\n| 2 | GP | F | 17 | U | GT3 | T | 1 | 1 | at_home  | other    | ⋯ | 5 | 3 | 3 | 1 | 1 | 3 |  4 |  5 |  5 |  6 |\n| 3 | GP | F | 15 | U | LE3 | T | 1 | 1 | at_home  | other    | ⋯ | 4 | 3 | 2 | 2 | 3 | 3 | 10 |  7 |  8 | 10 |\n| 4 | GP | F | 15 | U | GT3 | T | 4 | 2 | health   | services | ⋯ | 3 | 2 | 2 | 1 | 1 | 5 |  2 | 15 | 14 | 15 |\n| 5 | GP | F | 16 | U | GT3 | T | 3 | 3 | other    | other    | ⋯ | 4 | 3 | 2 | 1 | 2 | 5 |  4 |  6 | 10 | 10 |\n| 6 | GP | M | 16 | U | LE3 | T | 4 | 3 | services | other    | ⋯ | 5 | 4 | 2 | 1 | 2 | 5 | 10 | 15 | 15 | 15 |\n\n",
            "text/latex": "A data.frame: 6 × 33\n\\begin{tabular}{r|lllllllllllllllllllll}\n  & school & sex & age & address & famsize & Pstatus & Medu & Fedu & Mjob & Fjob & ⋯ & famrel & freetime & goout & Dalc & Walc & health & absences & G1 & G2 & G3\\\\\n  & <chr> & <chr> & <int> & <chr> & <chr> & <chr> & <int> & <int> & <chr> & <chr> & ⋯ & <int> & <int> & <int> & <int> & <int> & <int> & <int> & <int> & <int> & <int>\\\\\n\\hline\n\t1 & GP & F & 18 & U & GT3 & A & 4 & 4 & at\\_home  & teacher  & ⋯ & 4 & 3 & 4 & 1 & 1 & 3 &  6 &  5 &  6 &  6\\\\\n\t2 & GP & F & 17 & U & GT3 & T & 1 & 1 & at\\_home  & other    & ⋯ & 5 & 3 & 3 & 1 & 1 & 3 &  4 &  5 &  5 &  6\\\\\n\t3 & GP & F & 15 & U & LE3 & T & 1 & 1 & at\\_home  & other    & ⋯ & 4 & 3 & 2 & 2 & 3 & 3 & 10 &  7 &  8 & 10\\\\\n\t4 & GP & F & 15 & U & GT3 & T & 4 & 2 & health   & services & ⋯ & 3 & 2 & 2 & 1 & 1 & 5 &  2 & 15 & 14 & 15\\\\\n\t5 & GP & F & 16 & U & GT3 & T & 3 & 3 & other    & other    & ⋯ & 4 & 3 & 2 & 1 & 2 & 5 &  4 &  6 & 10 & 10\\\\\n\t6 & GP & M & 16 & U & LE3 & T & 4 & 3 & services & other    & ⋯ & 5 & 4 & 2 & 1 & 2 & 5 & 10 & 15 & 15 & 15\\\\\n\\end{tabular}\n",
            "text/plain": [
              "  school sex age address famsize Pstatus Medu Fedu Mjob     Fjob     ⋯ famrel\n",
              "1 GP     F   18  U       GT3     A       4    4    at_home  teacher  ⋯ 4     \n",
              "2 GP     F   17  U       GT3     T       1    1    at_home  other    ⋯ 5     \n",
              "3 GP     F   15  U       LE3     T       1    1    at_home  other    ⋯ 4     \n",
              "4 GP     F   15  U       GT3     T       4    2    health   services ⋯ 3     \n",
              "5 GP     F   16  U       GT3     T       3    3    other    other    ⋯ 4     \n",
              "6 GP     M   16  U       LE3     T       4    3    services other    ⋯ 5     \n",
              "  freetime goout Dalc Walc health absences G1 G2 G3\n",
              "1 3        4     1    1    3       6        5  6  6\n",
              "2 3        3     1    1    3       4        5  5  6\n",
              "3 3        2     2    3    3      10        7  8 10\n",
              "4 2        2     1    1    5       2       15 14 15\n",
              "5 3        2     1    2    5       4        6 10 10\n",
              "6 4        2     1    2    5      10       15 15 15"
            ]
          },
          "metadata": {}
        },
        {
          "output_type": "display_data",
          "data": {
            "text/html": [
              "<table class=\"dataframe\">\n",
              "<caption>A data.frame: 6 × 33</caption>\n",
              "<thead>\n",
              "\t<tr><th></th><th scope=col>school</th><th scope=col>sex</th><th scope=col>age</th><th scope=col>address</th><th scope=col>famsize</th><th scope=col>Pstatus</th><th scope=col>Medu</th><th scope=col>Fedu</th><th scope=col>Mjob</th><th scope=col>Fjob</th><th scope=col>⋯</th><th scope=col>famrel</th><th scope=col>freetime</th><th scope=col>goout</th><th scope=col>Dalc</th><th scope=col>Walc</th><th scope=col>health</th><th scope=col>absences</th><th scope=col>G1</th><th scope=col>G2</th><th scope=col>G3</th></tr>\n",
              "\t<tr><th></th><th scope=col>&lt;chr&gt;</th><th scope=col>&lt;chr&gt;</th><th scope=col>&lt;int&gt;</th><th scope=col>&lt;chr&gt;</th><th scope=col>&lt;chr&gt;</th><th scope=col>&lt;chr&gt;</th><th scope=col>&lt;int&gt;</th><th scope=col>&lt;int&gt;</th><th scope=col>&lt;chr&gt;</th><th scope=col>&lt;chr&gt;</th><th scope=col>⋯</th><th scope=col>&lt;int&gt;</th><th scope=col>&lt;int&gt;</th><th scope=col>&lt;int&gt;</th><th scope=col>&lt;int&gt;</th><th scope=col>&lt;int&gt;</th><th scope=col>&lt;int&gt;</th><th scope=col>&lt;int&gt;</th><th scope=col>&lt;int&gt;</th><th scope=col>&lt;int&gt;</th><th scope=col>&lt;int&gt;</th></tr>\n",
              "</thead>\n",
              "<tbody>\n",
              "\t<tr><th scope=row>1</th><td>GP</td><td>F</td><td>18</td><td>U</td><td>GT3</td><td>A</td><td>4</td><td>4</td><td>at_home </td><td>teacher </td><td>⋯</td><td>4</td><td>3</td><td>4</td><td>1</td><td>1</td><td>3</td><td>4</td><td> 0</td><td>11</td><td>11</td></tr>\n",
              "\t<tr><th scope=row>2</th><td>GP</td><td>F</td><td>17</td><td>U</td><td>GT3</td><td>T</td><td>1</td><td>1</td><td>at_home </td><td>other   </td><td>⋯</td><td>5</td><td>3</td><td>3</td><td>1</td><td>1</td><td>3</td><td>2</td><td> 9</td><td>11</td><td>11</td></tr>\n",
              "\t<tr><th scope=row>3</th><td>GP</td><td>F</td><td>15</td><td>U</td><td>LE3</td><td>T</td><td>1</td><td>1</td><td>at_home </td><td>other   </td><td>⋯</td><td>4</td><td>3</td><td>2</td><td>2</td><td>3</td><td>3</td><td>6</td><td>12</td><td>13</td><td>12</td></tr>\n",
              "\t<tr><th scope=row>4</th><td>GP</td><td>F</td><td>15</td><td>U</td><td>GT3</td><td>T</td><td>4</td><td>2</td><td>health  </td><td>services</td><td>⋯</td><td>3</td><td>2</td><td>2</td><td>1</td><td>1</td><td>5</td><td>0</td><td>14</td><td>14</td><td>14</td></tr>\n",
              "\t<tr><th scope=row>5</th><td>GP</td><td>F</td><td>16</td><td>U</td><td>GT3</td><td>T</td><td>3</td><td>3</td><td>other   </td><td>other   </td><td>⋯</td><td>4</td><td>3</td><td>2</td><td>1</td><td>2</td><td>5</td><td>0</td><td>11</td><td>13</td><td>13</td></tr>\n",
              "\t<tr><th scope=row>6</th><td>GP</td><td>M</td><td>16</td><td>U</td><td>LE3</td><td>T</td><td>4</td><td>3</td><td>services</td><td>other   </td><td>⋯</td><td>5</td><td>4</td><td>2</td><td>1</td><td>2</td><td>5</td><td>6</td><td>12</td><td>12</td><td>13</td></tr>\n",
              "</tbody>\n",
              "</table>\n"
            ],
            "text/markdown": "\nA data.frame: 6 × 33\n\n| <!--/--> | school &lt;chr&gt; | sex &lt;chr&gt; | age &lt;int&gt; | address &lt;chr&gt; | famsize &lt;chr&gt; | Pstatus &lt;chr&gt; | Medu &lt;int&gt; | Fedu &lt;int&gt; | Mjob &lt;chr&gt; | Fjob &lt;chr&gt; | ⋯ ⋯ | famrel &lt;int&gt; | freetime &lt;int&gt; | goout &lt;int&gt; | Dalc &lt;int&gt; | Walc &lt;int&gt; | health &lt;int&gt; | absences &lt;int&gt; | G1 &lt;int&gt; | G2 &lt;int&gt; | G3 &lt;int&gt; |\n|---|---|---|---|---|---|---|---|---|---|---|---|---|---|---|---|---|---|---|---|---|---|\n| 1 | GP | F | 18 | U | GT3 | A | 4 | 4 | at_home  | teacher  | ⋯ | 4 | 3 | 4 | 1 | 1 | 3 | 4 |  0 | 11 | 11 |\n| 2 | GP | F | 17 | U | GT3 | T | 1 | 1 | at_home  | other    | ⋯ | 5 | 3 | 3 | 1 | 1 | 3 | 2 |  9 | 11 | 11 |\n| 3 | GP | F | 15 | U | LE3 | T | 1 | 1 | at_home  | other    | ⋯ | 4 | 3 | 2 | 2 | 3 | 3 | 6 | 12 | 13 | 12 |\n| 4 | GP | F | 15 | U | GT3 | T | 4 | 2 | health   | services | ⋯ | 3 | 2 | 2 | 1 | 1 | 5 | 0 | 14 | 14 | 14 |\n| 5 | GP | F | 16 | U | GT3 | T | 3 | 3 | other    | other    | ⋯ | 4 | 3 | 2 | 1 | 2 | 5 | 0 | 11 | 13 | 13 |\n| 6 | GP | M | 16 | U | LE3 | T | 4 | 3 | services | other    | ⋯ | 5 | 4 | 2 | 1 | 2 | 5 | 6 | 12 | 12 | 13 |\n\n",
            "text/latex": "A data.frame: 6 × 33\n\\begin{tabular}{r|lllllllllllllllllllll}\n  & school & sex & age & address & famsize & Pstatus & Medu & Fedu & Mjob & Fjob & ⋯ & famrel & freetime & goout & Dalc & Walc & health & absences & G1 & G2 & G3\\\\\n  & <chr> & <chr> & <int> & <chr> & <chr> & <chr> & <int> & <int> & <chr> & <chr> & ⋯ & <int> & <int> & <int> & <int> & <int> & <int> & <int> & <int> & <int> & <int>\\\\\n\\hline\n\t1 & GP & F & 18 & U & GT3 & A & 4 & 4 & at\\_home  & teacher  & ⋯ & 4 & 3 & 4 & 1 & 1 & 3 & 4 &  0 & 11 & 11\\\\\n\t2 & GP & F & 17 & U & GT3 & T & 1 & 1 & at\\_home  & other    & ⋯ & 5 & 3 & 3 & 1 & 1 & 3 & 2 &  9 & 11 & 11\\\\\n\t3 & GP & F & 15 & U & LE3 & T & 1 & 1 & at\\_home  & other    & ⋯ & 4 & 3 & 2 & 2 & 3 & 3 & 6 & 12 & 13 & 12\\\\\n\t4 & GP & F & 15 & U & GT3 & T & 4 & 2 & health   & services & ⋯ & 3 & 2 & 2 & 1 & 1 & 5 & 0 & 14 & 14 & 14\\\\\n\t5 & GP & F & 16 & U & GT3 & T & 3 & 3 & other    & other    & ⋯ & 4 & 3 & 2 & 1 & 2 & 5 & 0 & 11 & 13 & 13\\\\\n\t6 & GP & M & 16 & U & LE3 & T & 4 & 3 & services & other    & ⋯ & 5 & 4 & 2 & 1 & 2 & 5 & 6 & 12 & 12 & 13\\\\\n\\end{tabular}\n",
            "text/plain": [
              "  school sex age address famsize Pstatus Medu Fedu Mjob     Fjob     ⋯ famrel\n",
              "1 GP     F   18  U       GT3     A       4    4    at_home  teacher  ⋯ 4     \n",
              "2 GP     F   17  U       GT3     T       1    1    at_home  other    ⋯ 5     \n",
              "3 GP     F   15  U       LE3     T       1    1    at_home  other    ⋯ 4     \n",
              "4 GP     F   15  U       GT3     T       4    2    health   services ⋯ 3     \n",
              "5 GP     F   16  U       GT3     T       3    3    other    other    ⋯ 4     \n",
              "6 GP     M   16  U       LE3     T       4    3    services other    ⋯ 5     \n",
              "  freetime goout Dalc Walc health absences G1 G2 G3\n",
              "1 3        4     1    1    3      4         0 11 11\n",
              "2 3        3     1    1    3      2         9 11 11\n",
              "3 3        2     2    3    3      6        12 13 12\n",
              "4 2        2     1    1    5      0        14 14 14\n",
              "5 3        2     1    2    5      0        11 13 13\n",
              "6 4        2     1    2    5      6        12 12 13"
            ]
          },
          "metadata": {}
        }
      ]
    },
    {
      "cell_type": "markdown",
      "source": [
        "Dataset source: https://archive.ics.uci.edu/dataset/320/student+performance"
      ],
      "metadata": {
        "id": "pbfC_QBSskc5"
      }
    },
    {
      "cell_type": "markdown",
      "source": [
        "License: This dataset is licensed under a https://creativecommons.org/licenses/by/4.0/legalcode (CC BY 4.0) license."
      ],
      "metadata": {
        "id": "sAOHACx9s1qY"
      }
    },
    {
      "cell_type": "markdown",
      "source": [
        "##Task No.1\n",
        "Describe the regression problem you tackle in this coursework, namely what is the purpose\n",
        "of your analysis"
      ],
      "metadata": {
        "id": "fHp4j6ertj0M"
      }
    },
    {
      "cell_type": "markdown",
      "source": [
        "The regression problem with this dataset, involving student performance in secondary education, is centred around predicting a student's final year grade (G3) in two subjects: Mathematics (mat) and Portuguese language (por). This prediction is based on various explanatory variables provided in the dataset. Let us break down the critical aspects of this regression problem:"
      ],
      "metadata": {
        "id": "5sCSKZTiud0y"
      }
    },
    {
      "cell_type": "markdown",
      "source": [
        "###Objective of the Analysis"
      ],
      "metadata": {
        "id": "UgkPlwIdupY1"
      }
    },
    {
      "cell_type": "markdown",
      "source": [
        "The regression analysis primarily aims to predict students' final grades (G3).\n",
        "\n",
        "This prediction can inform understanding of:\n",
        "\n",
        "- Student Performance: Understanding factors that contribute to higher or lower final grades.\n",
        "\n",
        "- Educational Interventions: Identifying areas where students might require more support or resources.\n",
        "\n",
        "- Policy Making: Informing educational policies and teaching strategies to improve student outcomes."
      ],
      "metadata": {
        "id": "ICNTc1MPvdNo"
      }
    },
    {
      "cell_type": "markdown",
      "source": [
        "###Nature of the Regression Problem"
      ],
      "metadata": {
        "id": "G2D_d7gixX5T"
      }
    },
    {
      "cell_type": "markdown",
      "source": [
        "- Target Variable: The target variable for the regression model is 'G3', the final year grade, which is a continuous numeric value.\n",
        "\n",
        "- Type of Regression: Since the target variable is continuous, this is a typical regression problem (as opposed to a classification problem)."
      ],
      "metadata": {
        "id": "5yBORTm2xdAX"
      }
    },
    {
      "cell_type": "markdown",
      "source": [
        "###Predictor Variables"
      ],
      "metadata": {
        "id": "TnrXPt_5yHot"
      }
    },
    {
      "cell_type": "markdown",
      "source": [
        "This analysis will consider various independent variables, which could include:\n",
        "\n",
        "- Demographic Factors: Age, sex, and address of the students.\n",
        "\n",
        "- Family Background: Parents' education level, job, family size, etc.\n",
        "\n",
        "- School-Related Features: Absences, past failures, extra educational support, etc.\n",
        "\n",
        "- Lifestyle Factors: Going out, weekday alcohol consumption, etc.\n",
        "\n",
        "- Previous Performance: First and second-period grades (G1 and G2). However, considering the strong correlation with G3, we might explore models including and excluding these variables.\n",
        "\n"
      ],
      "metadata": {
        "id": "-vHnYgwlyLtI"
      }
    },
    {
      "cell_type": "markdown",
      "source": [
        "##Task No.2\n",
        "Randomly split the dataset in 3 equal parts: the training set, the validation set and the test set."
      ],
      "metadata": {
        "id": "De7_ow0cJzN5"
      }
    },
    {
      "cell_type": "markdown",
      "source": [
        "The provided R script reads two datasets, student-mat.csv and student-por.csv, from a specified directory and merges them into a single dataframe based on standard columns like school, sex, age, and others. The merging process creates a combined dataset by aligning rows from both files with matching values in these critical columns. Finally, the script displays the total number of rows in the merged dataset and the first few rows for initial inspection."
      ],
      "metadata": {
        "id": "CAfcse11LB1I"
      }
    },
    {
      "cell_type": "markdown",
      "source": [
        "###Merge the CSV Files"
      ],
      "metadata": {
        "id": "0VXrgp9hLIqj"
      }
    },
    {
      "cell_type": "code",
      "source": [
        "# Read the 'student-mat.csv' file into a dataframe 'd1'. The file is separated by semicolons and includes a header row\n",
        "d1 = read.table(\"/content/drive/MyDrive/student/student-mat.csv\", sep=\";\", header=TRUE)\n",
        "\n",
        "# Read the 'student-por.csv' file into a dataframe 'd2'. This file is also separated by semicolons and includes a header row\n",
        "d2 = read.table(\"/content/drive/MyDrive/student/student-por.csv\", sep=\";\", header=TRUE)\n",
        "\n",
        "# Merge the dataframes 'd1' and 'd2' into a new dataframe 'dataset'\n",
        "# The merge is performed on columns: school, sex, age, address, famsize,\n",
        "# Pstatus, Medu, Fedu, Mjob, Fjob, reason, nursery, and internet\n",
        "# These columns are used as keys for merging, meaning rows will be combined when these columns have matching values in both 'd1' and 'd2'\n",
        "dataset = merge(d1, d2, by=c(\"school\", \"sex\", \"age\", \"address\", \"famsize\", \"Pstatus\", \"Medu\", \"Fedu\", \"Mjob\", \"Fjob\", \"reason\", \"nursery\", \"internet\"))\n",
        "\n",
        "# Print the number of rows in the merged dataframe 'd3'. This gives an idea of how many entries are there in the merged dataset.\n",
        "print(nrow(dataset))\n",
        "\n",
        "# Display the first few rows (default is 6) of the merged dataframe 'd3'. This is useful for a quick inspection of the merged data, its structure, and its columns.\n",
        "head(dataset)\n"
      ],
      "metadata": {
        "colab": {
          "base_uri": "https://localhost:8080/",
          "height": 323
        },
        "id": "IvSSMxuPI2tT",
        "outputId": "6584833a-c2d9-4094-d3c3-102a851e5cae"
      },
      "execution_count": 2,
      "outputs": [
        {
          "output_type": "stream",
          "name": "stdout",
          "text": [
            "[1] 382\n"
          ]
        },
        {
          "output_type": "display_data",
          "data": {
            "text/html": [
              "<table class=\"dataframe\">\n",
              "<caption>A data.frame: 6 × 53</caption>\n",
              "<thead>\n",
              "\t<tr><th></th><th scope=col>school</th><th scope=col>sex</th><th scope=col>age</th><th scope=col>address</th><th scope=col>famsize</th><th scope=col>Pstatus</th><th scope=col>Medu</th><th scope=col>Fedu</th><th scope=col>Mjob</th><th scope=col>Fjob</th><th scope=col>⋯</th><th scope=col>famrel.y</th><th scope=col>freetime.y</th><th scope=col>goout.y</th><th scope=col>Dalc.y</th><th scope=col>Walc.y</th><th scope=col>health.y</th><th scope=col>absences.y</th><th scope=col>G1.y</th><th scope=col>G2.y</th><th scope=col>G3.y</th></tr>\n",
              "\t<tr><th></th><th scope=col>&lt;chr&gt;</th><th scope=col>&lt;chr&gt;</th><th scope=col>&lt;int&gt;</th><th scope=col>&lt;chr&gt;</th><th scope=col>&lt;chr&gt;</th><th scope=col>&lt;chr&gt;</th><th scope=col>&lt;int&gt;</th><th scope=col>&lt;int&gt;</th><th scope=col>&lt;chr&gt;</th><th scope=col>&lt;chr&gt;</th><th scope=col>⋯</th><th scope=col>&lt;int&gt;</th><th scope=col>&lt;int&gt;</th><th scope=col>&lt;int&gt;</th><th scope=col>&lt;int&gt;</th><th scope=col>&lt;int&gt;</th><th scope=col>&lt;int&gt;</th><th scope=col>&lt;int&gt;</th><th scope=col>&lt;int&gt;</th><th scope=col>&lt;int&gt;</th><th scope=col>&lt;int&gt;</th></tr>\n",
              "</thead>\n",
              "<tbody>\n",
              "\t<tr><th scope=row>1</th><td>GP</td><td>F</td><td>15</td><td>R</td><td>GT3</td><td>T</td><td>1</td><td>1</td><td>at_home </td><td>other   </td><td>⋯</td><td>3</td><td>1</td><td>2</td><td>1</td><td>1</td><td>1</td><td>4</td><td>13</td><td>13</td><td>13</td></tr>\n",
              "\t<tr><th scope=row>2</th><td>GP</td><td>F</td><td>15</td><td>R</td><td>GT3</td><td>T</td><td>1</td><td>1</td><td>other   </td><td>other   </td><td>⋯</td><td>3</td><td>3</td><td>4</td><td>2</td><td>4</td><td>5</td><td>2</td><td>13</td><td>11</td><td>11</td></tr>\n",
              "\t<tr><th scope=row>3</th><td>GP</td><td>F</td><td>15</td><td>R</td><td>GT3</td><td>T</td><td>2</td><td>2</td><td>at_home </td><td>other   </td><td>⋯</td><td>4</td><td>3</td><td>1</td><td>1</td><td>1</td><td>2</td><td>8</td><td>14</td><td>13</td><td>12</td></tr>\n",
              "\t<tr><th scope=row>4</th><td>GP</td><td>F</td><td>15</td><td>R</td><td>GT3</td><td>T</td><td>2</td><td>4</td><td>services</td><td>health  </td><td>⋯</td><td>4</td><td>3</td><td>2</td><td>1</td><td>1</td><td>5</td><td>2</td><td>10</td><td>11</td><td>10</td></tr>\n",
              "\t<tr><th scope=row>5</th><td>GP</td><td>F</td><td>15</td><td>R</td><td>GT3</td><td>T</td><td>3</td><td>3</td><td>services</td><td>services</td><td>⋯</td><td>4</td><td>2</td><td>1</td><td>2</td><td>3</td><td>3</td><td>2</td><td>13</td><td>13</td><td>13</td></tr>\n",
              "\t<tr><th scope=row>6</th><td>GP</td><td>F</td><td>15</td><td>R</td><td>GT3</td><td>T</td><td>3</td><td>4</td><td>services</td><td>health  </td><td>⋯</td><td>4</td><td>3</td><td>2</td><td>1</td><td>1</td><td>5</td><td>2</td><td>11</td><td>12</td><td>12</td></tr>\n",
              "</tbody>\n",
              "</table>\n"
            ],
            "text/markdown": "\nA data.frame: 6 × 53\n\n| <!--/--> | school &lt;chr&gt; | sex &lt;chr&gt; | age &lt;int&gt; | address &lt;chr&gt; | famsize &lt;chr&gt; | Pstatus &lt;chr&gt; | Medu &lt;int&gt; | Fedu &lt;int&gt; | Mjob &lt;chr&gt; | Fjob &lt;chr&gt; | ⋯ ⋯ | famrel.y &lt;int&gt; | freetime.y &lt;int&gt; | goout.y &lt;int&gt; | Dalc.y &lt;int&gt; | Walc.y &lt;int&gt; | health.y &lt;int&gt; | absences.y &lt;int&gt; | G1.y &lt;int&gt; | G2.y &lt;int&gt; | G3.y &lt;int&gt; |\n|---|---|---|---|---|---|---|---|---|---|---|---|---|---|---|---|---|---|---|---|---|---|\n| 1 | GP | F | 15 | R | GT3 | T | 1 | 1 | at_home  | other    | ⋯ | 3 | 1 | 2 | 1 | 1 | 1 | 4 | 13 | 13 | 13 |\n| 2 | GP | F | 15 | R | GT3 | T | 1 | 1 | other    | other    | ⋯ | 3 | 3 | 4 | 2 | 4 | 5 | 2 | 13 | 11 | 11 |\n| 3 | GP | F | 15 | R | GT3 | T | 2 | 2 | at_home  | other    | ⋯ | 4 | 3 | 1 | 1 | 1 | 2 | 8 | 14 | 13 | 12 |\n| 4 | GP | F | 15 | R | GT3 | T | 2 | 4 | services | health   | ⋯ | 4 | 3 | 2 | 1 | 1 | 5 | 2 | 10 | 11 | 10 |\n| 5 | GP | F | 15 | R | GT3 | T | 3 | 3 | services | services | ⋯ | 4 | 2 | 1 | 2 | 3 | 3 | 2 | 13 | 13 | 13 |\n| 6 | GP | F | 15 | R | GT3 | T | 3 | 4 | services | health   | ⋯ | 4 | 3 | 2 | 1 | 1 | 5 | 2 | 11 | 12 | 12 |\n\n",
            "text/latex": "A data.frame: 6 × 53\n\\begin{tabular}{r|lllllllllllllllllllll}\n  & school & sex & age & address & famsize & Pstatus & Medu & Fedu & Mjob & Fjob & ⋯ & famrel.y & freetime.y & goout.y & Dalc.y & Walc.y & health.y & absences.y & G1.y & G2.y & G3.y\\\\\n  & <chr> & <chr> & <int> & <chr> & <chr> & <chr> & <int> & <int> & <chr> & <chr> & ⋯ & <int> & <int> & <int> & <int> & <int> & <int> & <int> & <int> & <int> & <int>\\\\\n\\hline\n\t1 & GP & F & 15 & R & GT3 & T & 1 & 1 & at\\_home  & other    & ⋯ & 3 & 1 & 2 & 1 & 1 & 1 & 4 & 13 & 13 & 13\\\\\n\t2 & GP & F & 15 & R & GT3 & T & 1 & 1 & other    & other    & ⋯ & 3 & 3 & 4 & 2 & 4 & 5 & 2 & 13 & 11 & 11\\\\\n\t3 & GP & F & 15 & R & GT3 & T & 2 & 2 & at\\_home  & other    & ⋯ & 4 & 3 & 1 & 1 & 1 & 2 & 8 & 14 & 13 & 12\\\\\n\t4 & GP & F & 15 & R & GT3 & T & 2 & 4 & services & health   & ⋯ & 4 & 3 & 2 & 1 & 1 & 5 & 2 & 10 & 11 & 10\\\\\n\t5 & GP & F & 15 & R & GT3 & T & 3 & 3 & services & services & ⋯ & 4 & 2 & 1 & 2 & 3 & 3 & 2 & 13 & 13 & 13\\\\\n\t6 & GP & F & 15 & R & GT3 & T & 3 & 4 & services & health   & ⋯ & 4 & 3 & 2 & 1 & 1 & 5 & 2 & 11 & 12 & 12\\\\\n\\end{tabular}\n",
            "text/plain": [
              "  school sex age address famsize Pstatus Medu Fedu Mjob     Fjob     ⋯ famrel.y\n",
              "1 GP     F   15  R       GT3     T       1    1    at_home  other    ⋯ 3       \n",
              "2 GP     F   15  R       GT3     T       1    1    other    other    ⋯ 3       \n",
              "3 GP     F   15  R       GT3     T       2    2    at_home  other    ⋯ 4       \n",
              "4 GP     F   15  R       GT3     T       2    4    services health   ⋯ 4       \n",
              "5 GP     F   15  R       GT3     T       3    3    services services ⋯ 4       \n",
              "6 GP     F   15  R       GT3     T       3    4    services health   ⋯ 4       \n",
              "  freetime.y goout.y Dalc.y Walc.y health.y absences.y G1.y G2.y G3.y\n",
              "1 1          2       1      1      1        4          13   13   13  \n",
              "2 3          4       2      4      5        2          13   11   11  \n",
              "3 3          1       1      1      2        8          14   13   12  \n",
              "4 3          2       1      1      5        2          10   11   10  \n",
              "5 2          1       2      3      3        2          13   13   13  \n",
              "6 3          2       1      1      5        2          11   12   12  "
            ]
          },
          "metadata": {}
        }
      ]
    },
    {
      "cell_type": "markdown",
      "source": [
        "###Random Slipt the Dataset\n",
        "\n",
        "The script loads the `dplyr` library for data manipulation, sets a random seed for reproducibility, and shuffles a dataset to ensure random distribution. It then divides the randomized dataset into three equal parts for training, validation, and testing, a standard practice in machine learning for model development and evaluation. This approach ensures that each subset is representative of the overall dataset, facilitating practical model training and performance assessment."
      ],
      "metadata": {
        "id": "xY05gNuNLVUi"
      }
    },
    {
      "cell_type": "code",
      "source": [
        "# Load necessary library\n",
        "library(dplyr)\n",
        "\n",
        "# Set seed for reproducibility\n",
        "set.seed(123)\n",
        "\n",
        "# Shuffle the dataset\n",
        "dataset <- dataset[sample(nrow(dataset)), ]\n",
        "\n",
        "# Split the dataset into three equal parts\n",
        "part_size <- nrow(dataset) / 3\n",
        "train_set <- dataset[1:part_size, ]\n",
        "validation_set <- dataset[(part_size + 1):(2 * part_size), ]\n",
        "test_set <- dataset[(2 * part_size + 1):nrow(dataset), ]\n"
      ],
      "metadata": {
        "colab": {
          "base_uri": "https://localhost:8080/"
        },
        "id": "yF4YvIc2GmOZ",
        "outputId": "a5a524df-1837-40f3-9083-fbfd8218a8ca"
      },
      "execution_count": 3,
      "outputs": [
        {
          "output_type": "stream",
          "name": "stderr",
          "text": [
            "\n",
            "Attaching package: ‘dplyr’\n",
            "\n",
            "\n",
            "The following objects are masked from ‘package:stats’:\n",
            "\n",
            "    filter, lag\n",
            "\n",
            "\n",
            "The following objects are masked from ‘package:base’:\n",
            "\n",
            "    intersect, setdiff, setequal, union\n",
            "\n",
            "\n"
          ]
        }
      ]
    },
    {
      "cell_type": "markdown",
      "source": [
        "##Task No.3\n",
        "Understanding the data: Using the training set, provide number of records and number of variables; mention the names of input attributes (independent variables) and their types and provide percentage of missing values; mention the output attribute (dependent variable) and its type. Compute variable correlations. Draw scatterplots with variables to visually."
      ],
      "metadata": {
        "id": "T9e2XV-leYk_"
      }
    },
    {
      "cell_type": "markdown",
      "source": [
        "1. Number of Records and Variables\n",
        "This step involves finding out the number of rows (records) and columns (variables) in the training set."
      ],
      "metadata": {
        "id": "HeaMOwiqgP7J"
      }
    },
    {
      "cell_type": "code",
      "source": [
        "# Number of records and variables in the training set\n",
        "num_records <- nrow(train_set)\n",
        "num_variables <- ncol(train_set)\n",
        "cat(\"Number of records....:\", num_records, \"\\n\")\n",
        "cat(\"Number of variables..:\", num_variables, \"\\n\")\n"
      ],
      "metadata": {
        "colab": {
          "base_uri": "https://localhost:8080/"
        },
        "id": "zLUDPkwqeeuj",
        "outputId": "b42d6f3b-9d88-4a61-a7c7-1aa3e783d741"
      },
      "execution_count": 5,
      "outputs": [
        {
          "output_type": "stream",
          "name": "stdout",
          "text": [
            "Number of records....: 127 \n",
            "Number of variables..: 53 \n"
          ]
        }
      ]
    },
    {
      "cell_type": "markdown",
      "source": [
        "2. Input Attributes and Their Types\n",
        "Identify the names of the input attributes (independent variables), and mention their types."
      ],
      "metadata": {
        "id": "bldNgXlSgsXx"
      }
    },
    {
      "cell_type": "code",
      "source": [
        "# Names and types of input attributes\n",
        "input_attributes <- names(train_set)\n",
        "attribute_types <- sapply(train_set, class)\n",
        "cat(\"Input Attributes and Their Types:\\n\")\n",
        "print(data.frame(Attribute = input_attributes, Type = attribute_types))\n"
      ],
      "metadata": {
        "colab": {
          "base_uri": "https://localhost:8080/"
        },
        "id": "SvbgeTSpgydo",
        "outputId": "24694604-1b53-4e30-c09c-12e60aaa831e"
      },
      "execution_count": 6,
      "outputs": [
        {
          "output_type": "stream",
          "name": "stdout",
          "text": [
            "Input Attributes and Their Types:\n",
            "                Attribute      Type\n",
            "school             school character\n",
            "sex                   sex character\n",
            "age                   age   integer\n",
            "address           address character\n",
            "famsize           famsize character\n",
            "Pstatus           Pstatus character\n",
            "Medu                 Medu   integer\n",
            "Fedu                 Fedu   integer\n",
            "Mjob                 Mjob character\n",
            "Fjob                 Fjob character\n",
            "reason             reason character\n",
            "nursery           nursery character\n",
            "internet         internet character\n",
            "guardian.x     guardian.x character\n",
            "traveltime.x traveltime.x   integer\n",
            "studytime.x   studytime.x   integer\n",
            "failures.x     failures.x   integer\n",
            "schoolsup.x   schoolsup.x character\n",
            "famsup.x         famsup.x character\n",
            "paid.x             paid.x character\n",
            "activities.x activities.x character\n",
            "higher.x         higher.x character\n",
            "romantic.x     romantic.x character\n",
            "famrel.x         famrel.x   integer\n",
            "freetime.x     freetime.x   integer\n",
            "goout.x           goout.x   integer\n",
            "Dalc.x             Dalc.x   integer\n",
            "Walc.x             Walc.x   integer\n",
            "health.x         health.x   integer\n",
            "absences.x     absences.x   integer\n",
            "G1.x                 G1.x   integer\n",
            "G2.x                 G2.x   integer\n",
            "G3.x                 G3.x   integer\n",
            "guardian.y     guardian.y character\n",
            "traveltime.y traveltime.y   integer\n",
            "studytime.y   studytime.y   integer\n",
            "failures.y     failures.y   integer\n",
            "schoolsup.y   schoolsup.y character\n",
            "famsup.y         famsup.y character\n",
            "paid.y             paid.y character\n",
            "activities.y activities.y character\n",
            "higher.y         higher.y character\n",
            "romantic.y     romantic.y character\n",
            "famrel.y         famrel.y   integer\n",
            "freetime.y     freetime.y   integer\n",
            "goout.y           goout.y   integer\n",
            "Dalc.y             Dalc.y   integer\n",
            "Walc.y             Walc.y   integer\n",
            "health.y         health.y   integer\n",
            "absences.y     absences.y   integer\n",
            "G1.y                 G1.y   integer\n",
            "G2.y                 G2.y   integer\n",
            "G3.y                 G3.y   integer\n"
          ]
        }
      ]
    }
  ]
}